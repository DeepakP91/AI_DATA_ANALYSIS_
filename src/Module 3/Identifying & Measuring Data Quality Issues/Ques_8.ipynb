{
  "nbformat": 4,
  "nbformat_minor": 0,
  "metadata": {
    "colab": {
      "provenance": []
    },
    "kernelspec": {
      "name": "python3",
      "display_name": "Python 3"
    },
    "language_info": {
      "name": "python"
    }
  },
  "cells": [
    {
      "cell_type": "code",
      "execution_count": null,
      "metadata": {
        "id": "NbPugxQ_yOG4"
      },
      "outputs": [],
      "source": []
    },
    {
      "cell_type": "code",
      "source": [
        "import pandas as pd\n",
        "from scipy.stats import ks_2samp\n",
        "import matplotlib.pyplot as plt\n",
        "\n",
        "# Load your dataset\n",
        "df = pd.read_csv('/mnt/data/file-554GcGGZqFY7nhgpXEWuPj')\n",
        "\n",
        "# Preview the dataframe to understand structure\n",
        "print(df.head())\n",
        "\n",
        "# Assume the dataframe has columns: 'timestamp' and 'numeric_attribute'\n",
        "# Convert timestamp to datetime if needed\n",
        "df['timestamp'] = pd.to_datetime(df['timestamp'])\n",
        "\n",
        "# Define two time periods for comparison\n",
        "# Adjust these dates based on your data\n",
        "period_1 = df[df['timestamp'] < '2023-01-01']\n",
        "period_2 = df[df['timestamp'] >= '2023-01-01']\n",
        "\n",
        "# Extract numeric attribute values\n",
        "attr_1 = period_1['numeric_attribute'].dropna()\n",
        "attr_2 = period_2['numeric_attribute'].dropna()\n",
        "\n",
        "# Perform KS Test\n",
        "ks_stat, p_value = ks_2samp(attr_1, attr_2)\n",
        "\n",
        "# Output the result\n",
        "print(f\"KS Statistic: {ks_stat}\")\n",
        "print(f\"P-value: {p_value}\")\n",
        "\n",
        "if p_value < 0.05:\n",
        "    print(\"Significant data drift detected.\")\n",
        "else:\n",
        "    print(\"No significant data drift detected.\")\n",
        "\n",
        "# Optional: Plot distributions\n",
        "plt.hist(attr_1, bins=30, alpha=0.5, label='Period 1')\n",
        "plt.hist(attr_2, bins=30, alpha=0.5, label='Period 2')\n",
        "plt.legend()\n",
        "plt.title('Distribution Comparison')\n",
        "plt.show()"
      ],
      "metadata": {
        "id": "h8QF6CVFysrY"
      },
      "execution_count": null,
      "outputs": []
    }
  ]
}