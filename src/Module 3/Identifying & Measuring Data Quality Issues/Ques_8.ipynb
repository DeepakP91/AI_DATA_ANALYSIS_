{
  "nbformat": 4,
  "nbformat_minor": 0,
  "metadata": {
    "colab": {
      "provenance": []
    },
    "kernelspec": {
      "name": "python3",
      "display_name": "Python 3"
    },
    "language_info": {
      "name": "python"
    }
  },
  "cells": [
    {
      "cell_type": "code",
      "execution_count": null,
      "metadata": {
        "id": "DXgVVqaoZAL9"
      },
      "outputs": [],
      "source": []
    },
    {
      "cell_type": "code",
      "source": [],
      "metadata": {
        "id": "OFMyTqEHZF_V"
      },
      "execution_count": null,
      "outputs": []
    },
    {
      "cell_type": "code",
      "source": [
        "import pandas as pd\n",
        "import matplotlib.pyplot as plt\n",
        "from scipy.stats import ks_2samp  # Kolmogorov–Smirnov test\n",
        "\n",
        "# Load dataset\n",
        "df = pd.read_csv('/mnt/data/file-QwcBCUNP3LXzYF4vj41uQq')\n",
        "\n",
        "# Replace with actual column names\n",
        "numeric_column = 'your_numeric_column'  # e.g., 'sales'\n",
        "time_column = 'your_time_column'        # e.g., 'date'\n",
        "\n",
        "# Convert time column to datetime\n",
        "df[time_column] = pd.to_datetime(df[time_column])\n",
        "\n",
        "# Split into two time periods (modify as needed)\n",
        "period1 = df[df[time_column] < '2023-01-01'][numeric_column].dropna()\n",
        "period2 = df[df[time_column] >= '2023-01-01'][numeric_column].dropna()\n",
        "\n",
        "# Descriptive statistics\n",
        "print(\"Period 1 Stats:\\n\", period1.describe())\n",
        "print(\"Period 2 Stats:\\n\", period2.describe())\n",
        "\n",
        "# Kolmogorov–Smirnov Test (tests if two samples come from the same distribution)\n",
        "ks_stat, ks_p = ks_2samp(period1, period2)\n",
        "print(f\"KS Test Statistic: {ks_stat:.4f}, P-value: {ks_p:.4f}\")\n",
        "\n",
        "# Plot histograms\n",
        "plt.figure(figsize=(10, 5))\n",
        "plt.hist(period1, bins=20, alpha=0.5, label='Period 1', color='blue', edgecolor='black')\n",
        "plt.hist(period2, bins=20, alpha=0.5, label='Period 2', color='red', edgecolor='black')\n",
        "plt.title(f'Data Drift Comparison for {numeric_column}')\n",
        "plt.xlabel(numeric_column)\n",
        "plt.ylabel('Frequency')\n",
        "plt.legend()\n",
        "plt.grid(True)\n",
        "plt.show()"
      ],
      "metadata": {
        "id": "RPjo8SwjslgW"
      },
      "execution_count": null,
      "outputs": []
    }
  ]
}