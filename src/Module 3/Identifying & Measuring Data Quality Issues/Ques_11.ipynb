{
  "nbformat": 4,
  "nbformat_minor": 0,
  "metadata": {
    "colab": {
      "provenance": []
    },
    "kernelspec": {
      "name": "python3",
      "display_name": "Python 3"
    },
    "language_info": {
      "name": "python"
    }
  },
  "cells": [
    {
      "cell_type": "code",
      "execution_count": null,
      "metadata": {
        "id": "NbPugxQ_yOG4"
      },
      "outputs": [],
      "source": []
    },
    {
      "cell_type": "code",
      "source": [
        "import pandas as pd\n",
        "import numpy as np\n",
        "\n",
        "# Load data\n",
        "df = pd.read_csv('/mnt/data/file-P5ZFuPP5n5b7fywj463NEm')\n",
        "\n",
        "# Summary\n",
        "print(\"=== Basic Info ===\")\n",
        "print(df.info())\n",
        "print(\"\\n=== First few rows ===\")\n",
        "print(df.head())\n",
        "\n",
        "# 1. Missing values\n",
        "print(\"\\n=== Missing Values ===\")\n",
        "print(df.isnull().sum())\n",
        "\n",
        "# 2. Duplicate rows\n",
        "duplicates = df[df.duplicated()]\n",
        "print(f\"\\n=== Duplicate Rows ({len(duplicates)}) ===\")\n",
        "print(duplicates.head())\n",
        "\n",
        "# 3. Invalid data types\n",
        "print(\"\\n=== Data Types ===\")\n",
        "print(df.dtypes)\n",
        "\n",
        "# 4. Inconsistent categorical values\n",
        "categorical_cols = df.select_dtypes(include=['object']).columns\n",
        "print(\"\\n=== Unique values in Categorical Columns ===\")\n",
        "for col in categorical_cols:\n",
        "    print(f\"{col}: {df[col].unique()}\")\n",
        "\n",
        "# 5. Negative or zero values in numeric columns\n",
        "numeric_cols = df.select_dtypes(include=[np.number]).columns\n",
        "print(\"\\n=== Zero/Negative Values Check ===\")\n",
        "for col in numeric_cols:\n",
        "    invalid = df[df[col] <= 0]\n",
        "    if not invalid.empty:\n",
        "        print(f\"{col}: {len(invalid)} invalid entries (zero or negative)\")\n",
        "        print(invalid[[col]].head())"
      ],
      "metadata": {
        "id": "_E5Juh7k0Ks_"
      },
      "execution_count": null,
      "outputs": []
    }
  ]
}