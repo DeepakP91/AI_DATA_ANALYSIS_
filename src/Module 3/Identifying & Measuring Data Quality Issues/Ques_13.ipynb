{
  "nbformat": 4,
  "nbformat_minor": 0,
  "metadata": {
    "colab": {
      "provenance": []
    },
    "kernelspec": {
      "name": "python3",
      "display_name": "Python 3"
    },
    "language_info": {
      "name": "python"
    }
  },
  "cells": [
    {
      "cell_type": "code",
      "execution_count": null,
      "metadata": {
        "id": "NbPugxQ_yOG4"
      },
      "outputs": [],
      "source": []
    },
    {
      "cell_type": "code",
      "source": [
        "import pandas as pd\n",
        "import numpy as np\n",
        "\n",
        "# Sample dataset\n",
        "data = {\n",
        "    'CustomerID': [1, 2, 3, 4, 5],\n",
        "    'Email': ['a@example.com', 'b@example.com', None, 'd@example.com', 'e@example.com'],\n",
        "    'Age': [25, None, 35, 40, 29],\n",
        "    'Country': ['US', 'UK', 'US', 'UK', 'US']\n",
        "}\n",
        "\n",
        "df = pd.DataFrame(data)\n",
        "\n",
        "# Define metrics\n",
        "def completeness(column):\n",
        "    return column.notnull().sum() / len(column)\n",
        "\n",
        "def uniqueness(column):\n",
        "    return column.nunique() / len(column)\n",
        "\n",
        "def validity(column, valid_range=None):\n",
        "    if valid_range:\n",
        "        return column.between(valid_range[0], valid_range[1]).sum() / column.count()\n",
        "    return np.nan\n",
        "\n",
        "# Compute metrics for each column\n",
        "metrics = {}\n",
        "\n",
        "for col in df.columns:\n",
        "    col_metrics = {\n",
        "        'Completeness': completeness(df[col]),\n",
        "        'Uniqueness': uniqueness(df[col])\n",
        "    }\n",
        "    if df[col].dtype in ['int64', 'float64'] and col == 'Age':\n",
        "        col_metrics['Validity'] = validity(df[col], valid_range=(18, 60))\n",
        "\n",
        "    metrics[col] = col_metrics\n",
        "\n",
        "# Convert to DataFrame\n",
        "metrics_df = pd.DataFrame(metrics).T\n",
        "\n",
        "# Optional: Overall Data Quality Score\n",
        "metrics_df['QualityScore'] = metrics_df.mean(axis=1)\n",
        "\n",
        "print(metrics_df)"
      ],
      "metadata": {
        "id": "S339MenC2j_M"
      },
      "execution_count": null,
      "outputs": []
    }
  ]
}