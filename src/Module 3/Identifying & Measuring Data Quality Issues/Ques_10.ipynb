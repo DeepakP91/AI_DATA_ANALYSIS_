{
  "nbformat": 4,
  "nbformat_minor": 0,
  "metadata": {
    "colab": {
      "provenance": []
    },
    "kernelspec": {
      "name": "python3",
      "display_name": "Python 3"
    },
    "language_info": {
      "name": "python"
    }
  },
  "cells": [
    {
      "cell_type": "code",
      "execution_count": null,
      "metadata": {
        "id": "NbPugxQ_yOG4"
      },
      "outputs": [],
      "source": []
    },
    {
      "cell_type": "code",
      "source": [
        "import pandas as pd\n",
        "import numpy as np\n",
        "\n",
        "# Load dataset\n",
        "df = pd.read_csv('/mnt/data/file-7CTqdrLXpf9Vkpca2EfnKj')\n",
        "\n",
        "# Select numeric columns\n",
        "numeric_cols = df.select_dtypes(include=[np.number]).columns\n",
        "\n",
        "# Data profiling summary\n",
        "profiling_results = pd.DataFrame(columns=['Column', 'Count', 'Mean', 'Median', 'StdDev', 'Min', 'Max', 'MissingValues'])\n",
        "\n",
        "for col in numeric_cols:\n",
        "    profiling_results = profiling_results.append({\n",
        "        'Column': col,\n",
        "        'Count': df[col].count(),\n",
        "        'Mean': df[col].mean(),\n",
        "        'Median': df[col].median(),\n",
        "        'StdDev': df[col].std(),\n",
        "        'Min': df[col].min(),\n",
        "        'Max': df[col].max(),\n",
        "        'MissingValues': df[col].isnull().sum()\n",
        "    }, ignore_index=True)\n",
        "\n",
        "print(\"=== Data Profiling Summary ===\")\n",
        "print(profiling_results)\n",
        "\n",
        "# Outlier detection using IQR method\n",
        "def detect_outliers_iqr(data, column):\n",
        "    Q1 = data[column].quantile(0.25)\n",
        "    Q3 = data[column].quantile(0.75)\n",
        "    IQR = Q3 - Q1\n",
        "    lower = Q1 - 1.5 * IQR\n",
        "    upper = Q3 + 1.5 * IQR\n",
        "    outliers = data[(data[column] < lower) | (data[column] > upper)]\n",
        "    return outliers\n",
        "\n",
        "# Report outliers for each numeric column\n",
        "for col in numeric_cols:\n",
        "    outliers = detect_outliers_iqr(df, col)\n",
        "    print(f\"\\nOutliers in '{col}': {len(outliers)} found\")\n",
        "    if not outliers.empty:\n",
        "        print(outliers[[col]].head())"
      ],
      "metadata": {
        "id": "rtzuyRb8zru2"
      },
      "execution_count": null,
      "outputs": []
    }
  ]
}