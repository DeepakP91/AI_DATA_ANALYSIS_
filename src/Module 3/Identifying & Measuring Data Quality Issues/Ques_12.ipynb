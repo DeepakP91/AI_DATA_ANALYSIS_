{
  "nbformat": 4,
  "nbformat_minor": 0,
  "metadata": {
    "colab": {
      "provenance": []
    },
    "kernelspec": {
      "name": "python3",
      "display_name": "Python 3"
    },
    "language_info": {
      "name": "python"
    }
  },
  "cells": [
    {
      "cell_type": "code",
      "execution_count": null,
      "metadata": {
        "id": "NbPugxQ_yOG4"
      },
      "outputs": [],
      "source": []
    },
    {
      "cell_type": "code",
      "source": [
        "import pandas as pd\n",
        "from ydata_profiling import ProfileReport  # install via: pip install ydata-profiling\n",
        "\n",
        "# Load your dataset\n",
        "df = pd.read_csv('your_data.csv')  # Replace with your file path\n",
        "\n",
        "# Generate the profile report\n",
        "profile = ProfileReport(df, title=\"Data Profiling Report\", explorative=True)\n",
        "\n",
        "# Save the report to an HTML file\n",
        "profile.to_file(\"data_profiling_report.html\")"
      ],
      "metadata": {
        "id": "Uasf8lUN2B2C"
      },
      "execution_count": null,
      "outputs": []
    }
  ]
}