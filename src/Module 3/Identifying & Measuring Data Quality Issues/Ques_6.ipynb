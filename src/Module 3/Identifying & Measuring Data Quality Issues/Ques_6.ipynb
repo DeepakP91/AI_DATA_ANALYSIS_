{
  "nbformat": 4,
  "nbformat_minor": 0,
  "metadata": {
    "colab": {
      "provenance": []
    },
    "kernelspec": {
      "name": "python3",
      "display_name": "Python 3"
    },
    "language_info": {
      "name": "python"
    }
  },
  "cells": [
    {
      "cell_type": "code",
      "execution_count": null,
      "metadata": {
        "id": "DXgVVqaoZAL9"
      },
      "outputs": [],
      "source": []
    },
    {
      "cell_type": "code",
      "source": [],
      "metadata": {
        "id": "OFMyTqEHZF_V"
      },
      "execution_count": null,
      "outputs": []
    },
    {
      "cell_type": "code",
      "source": [
        "import pandas as pd\n",
        "import matplotlib.pyplot as plt\n",
        "\n",
        "# Load the dataset (update the path or filename as needed)\n",
        "df = pd.read_csv('/mnt/data/file-65Fbbw5xLPWSMAeeToy2cb')\n",
        "\n",
        "# Choose the numeric column to analyze\n",
        "numeric_column = 'your_column_name'  # Replace with the actual column name\n",
        "\n",
        "# Display descriptive statistics\n",
        "print(\"Descriptive Statistics:\")\n",
        "print(df[numeric_column].describe())\n",
        "\n",
        "# Plot histogram\n",
        "plt.figure(figsize=(8, 5))\n",
        "plt.hist(df[numeric_column].dropna(), bins=20, color='skyblue', edgecolor='black')\n",
        "plt.title(f'Distribution of {numeric_column}')\n",
        "plt.xlabel(numeric_column)\n",
        "plt.ylabel('Frequency')\n",
        "plt.grid(True)\n",
        "plt.show()"
      ],
      "metadata": {
        "id": "ChyPNiKmr_OC"
      },
      "execution_count": null,
      "outputs": []
    }
  ]
}