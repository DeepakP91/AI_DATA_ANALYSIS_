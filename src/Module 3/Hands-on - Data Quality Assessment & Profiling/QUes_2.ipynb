{
  "nbformat": 4,
  "nbformat_minor": 0,
  "metadata": {
    "colab": {
      "provenance": []
    },
    "kernelspec": {
      "name": "python3",
      "display_name": "Python 3"
    },
    "language_info": {
      "name": "python"
    }
  },
  "cells": [
    {
      "cell_type": "code",
      "execution_count": null,
      "metadata": {
        "id": "NbPugxQ_yOG4"
      },
      "outputs": [],
      "source": []
    },
    {
      "cell_type": "code",
      "source": [
        "import pandas as pd\n",
        "import numpy as np\n",
        "from datetime import datetime\n",
        "\n",
        "# Step 1: Load or Create Sample Dataset\n",
        "data = pd.DataFrame({\n",
        "    'id': [1, 2, 2, 4, 5],\n",
        "    'name': ['Alice', 'Bob', 'Bob', 'David', np.nan],\n",
        "    'age': [25, np.nan, 30, 22, 40],\n",
        "    'email': ['alice@mail.com', 'bob@mail.com', 'bob@mail.com', None, 'david@mail.com'],\n",
        "    'date_joined': ['01-01-2021', '2021-01-01', '01-01-2021', 'March 5, 2021', 'invalid-date']\n",
        "})\n",
        "\n",
        "print(\"=== Dataset Overview ===\")\n",
        "print(data.head(), \"\\n\")\n",
        "\n",
        "# Step 2: Check for Missing Values\n",
        "print(\"=== Missing Values per Column ===\")\n",
        "print(data.isnull().sum(), \"\\n\")\n",
        "\n",
        "# Step 3: Identify Duplicate Rows\n",
        "duplicates = data[data.duplicated()]\n",
        "print(\"=== Duplicate Rows ===\")\n",
        "print(duplicates if not duplicates.empty else \"No duplicates found.\", \"\\n\")\n",
        "\n",
        "# Step 4: Standardize Date Format and Handle Inconsistencies\n",
        "def standardize_date(date_str):\n",
        "    formats = ['%d-%m-%Y', '%Y-%m-%d', '%m-%d-%Y', '%B %d, %Y']\n",
        "    for fmt in formats:\n",
        "        try:\n",
        "            return datetime.strptime(date_str, fmt).strftime('%Y-%m-%d')\n",
        "        except:\n",
        "            continue\n",
        "    return 'Invalid'\n",
        "\n",
        "data['standardized_date'] = data['date_joined'].apply(standardize_date)\n",
        "print(\"=== Standardized Date Column ===\")\n",
        "print(data[['date_joined', 'standardized_date']], \"\\n\")\n",
        "\n",
        "# Step 5: Generate Data Quality Report\n",
        "print(\"=== Data Quality Report ===\")\n",
        "report = pd.DataFrame({\n",
        "    'Column': data.columns,\n",
        "    'Data Type': data.dtypes.astype(str),\n",
        "    'Missing Values': data.isnull().sum(),\n",
        "    'Unique Values': data.nunique()\n",
        "})\n",
        "print(report)"
      ],
      "metadata": {
        "id": "V5wBjBeqdYf7"
      },
      "execution_count": null,
      "outputs": []
    }
  ]
}