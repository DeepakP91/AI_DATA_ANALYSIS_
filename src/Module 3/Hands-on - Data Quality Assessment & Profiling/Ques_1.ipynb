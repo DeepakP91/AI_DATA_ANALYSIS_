{
  "nbformat": 4,
  "nbformat_minor": 0,
  "metadata": {
    "colab": {
      "provenance": []
    },
    "kernelspec": {
      "name": "python3",
      "display_name": "Python 3"
    },
    "language_info": {
      "name": "python"
    }
  },
  "cells": [
    {
      "cell_type": "code",
      "execution_count": null,
      "metadata": {
        "id": "NbPugxQ_yOG4"
      },
      "outputs": [],
      "source": []
    },
    {
      "cell_type": "code",
      "source": [
        "import pandas as pd\n",
        "import numpy as np\n",
        "\n",
        "# Sample dataset\n",
        "data = pd.DataFrame({\n",
        "    'id': [1, 2, 2, 4, 5],\n",
        "    'name': ['Alice', 'Bob', 'Bob', 'David', None],\n",
        "    'age': [25, np.nan, 30, 22, 40],\n",
        "    'email': ['alice@mail.com', 'bob@mail.com', 'bob@mail.com', None, 'david@mail.com'],\n",
        "    'date_joined': ['01-01-2021', '2021-01-01', '01-01-2021', 'March 5, 2021', 'invalid-date']\n",
        "})\n",
        "\n",
        "# Step 1: Basic Info\n",
        "print(\"Dataset Overview:\")\n",
        "print(data.info())\n",
        "print(\"\\nFirst 5 Rows:\")\n",
        "print(data.head())\n",
        "\n",
        "# Step 2: Missing Values\n",
        "print(\"\\nMissing Values:\")\n",
        "print(data.isnull().sum())\n",
        "\n",
        "# Step 3: Duplicate Rows\n",
        "duplicates = data[data.duplicated()]\n",
        "print(\"\\nDuplicate Rows:\")\n",
        "print(duplicates)\n",
        "\n",
        "# Step 4: Inconsistent Date Formats\n",
        "from datetime import datetime\n",
        "\n",
        "def standardize_date(date_str):\n",
        "    formats = ['%d-%m-%Y', '%Y-%m-%d', '%m-%d-%Y', '%B %d, %Y']\n",
        "    for fmt in formats:\n",
        "        try:\n",
        "            return datetime.strptime(date_str, fmt).strftime('%Y-%m-%d')\n",
        "        except:\n",
        "            continue\n",
        "    return 'Invalid'\n",
        "\n",
        "data['standardized_date'] = data['date_joined'].apply(standardize_date)\n",
        "\n",
        "# Step 5: Data Quality Report\n",
        "print(\"\\nData Quality Report:\")\n",
        "report = pd.DataFrame({\n",
        "    'Column': data.columns,\n",
        "    'Data Type': data.dtypes.astype(str),\n",
        "    'Missing Values': data.isnull().sum(),\n",
        "    'Unique Values': data.nunique()\n",
        "})\n",
        "print(report)\n",
        "\n",
        "# Show cleaned date column\n",
        "print(\"\\nStandardized Dates:\")\n",
        "print(data[['date_joined', 'standardized_date']])"
      ],
      "metadata": {
        "id": "Q6buLh_3cy6W"
      },
      "execution_count": null,
      "outputs": []
    }
  ]
}