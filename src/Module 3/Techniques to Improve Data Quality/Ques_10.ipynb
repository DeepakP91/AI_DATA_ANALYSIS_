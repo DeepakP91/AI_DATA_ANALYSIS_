{
  "nbformat": 4,
  "nbformat_minor": 0,
  "metadata": {
    "colab": {
      "provenance": []
    },
    "kernelspec": {
      "name": "python3",
      "display_name": "Python 3"
    },
    "language_info": {
      "name": "python"
    }
  },
  "cells": [
    {
      "cell_type": "code",
      "execution_count": null,
      "metadata": {
        "id": "NbPugxQ_yOG4"
      },
      "outputs": [],
      "source": []
    },
    {
      "cell_type": "code",
      "source": [
        "import pandas as pd\n",
        "from sklearn.feature_extraction.text import TfidfVectorizer\n",
        "from sklearn.metrics.pairwise import cosine_similarity\n",
        "from sklearn.cluster import DBSCAN\n",
        "\n",
        "# Sample data\n",
        "data = pd.DataFrame({\n",
        "    'id': [1, 2, 3, 4],\n",
        "    'name': ['John Smith', 'Jon Smith', 'Johnny Smith', 'Alice Johnson'],\n",
        "    'address': ['123 Main St', '123 Main Street', '123 Main St.', '456 Elm St']\n",
        "})\n",
        "\n",
        "# Combine fields for comparison\n",
        "data['combined'] = data['name'] + ' ' + data['address']\n",
        "\n",
        "# Convert text to TF-IDF features\n",
        "vectorizer = TfidfVectorizer().fit_transform(data['combined'])\n",
        "tfidf_matrix = vectorizer.toarray()\n",
        "\n",
        "# Compute cosine similarity matrix\n",
        "similarity_matrix = cosine_similarity(tfidf_matrix)\n",
        "\n",
        "# Use DBSCAN for clustering similar records\n",
        "clustering = DBSCAN(eps=0.5, min_samples=2, metric='precomputed')\n",
        "labels = clustering.fit_predict(1 - similarity_matrix)  # 1 - sim to convert to distance\n",
        "\n",
        "# Attach cluster labels\n",
        "data['cluster'] = labels\n",
        "\n",
        "print(data)"
      ],
      "metadata": {
        "id": "xIisXjIt4jtl"
      },
      "execution_count": null,
      "outputs": []
    }
  ]
}