{
  "nbformat": 4,
  "nbformat_minor": 0,
  "metadata": {
    "colab": {
      "provenance": []
    },
    "kernelspec": {
      "name": "python3",
      "display_name": "Python 3"
    },
    "language_info": {
      "name": "python"
    }
  },
  "cells": [
    {
      "cell_type": "code",
      "execution_count": null,
      "metadata": {
        "id": "NbPugxQ_yOG4"
      },
      "outputs": [],
      "source": []
    },
    {
      "cell_type": "code",
      "source": [
        "import pandas as pd\n",
        "import pandera as pa\n",
        "from pandera import Column, DataFrameSchema, Check\n",
        "\n",
        "# Sample data\n",
        "df = pd.DataFrame({\n",
        "    \"id\": [1, 2, 3],\n",
        "    \"name\": [\"Alice\", \"Bob\", \"Charlie\"],\n",
        "    \"age\": [25, 30, -1],\n",
        "    \"email\": [\"alice@mail.com\", \"bob@mail.com\", \"invalid_email\"]\n",
        "})\n",
        "\n",
        "# Define schema for validation\n",
        "schema = DataFrameSchema({\n",
        "    \"id\": Column(int, Check.greater_than(0)),\n",
        "    \"name\": Column(str, Check.str_length(min_value=1)),\n",
        "    \"age\": Column(int, Check.in_range(0, 120)),\n",
        "    \"email\": Column(str, Check.str_matches(r\".+@.+\\..+\"))\n",
        "})\n",
        "\n",
        "# Validate the data\n",
        "try:\n",
        "    validated_df = schema.validate(df)\n",
        "    print(\"Data passed validation!\")\n",
        "except pa.errors.SchemaErrors as e:\n",
        "    print(\"Data validation failed!\")\n",
        "    print(e.failure_cases)"
      ],
      "metadata": {
        "id": "nTE8VMzK6W3d"
      },
      "execution_count": null,
      "outputs": []
    }
  ]
}