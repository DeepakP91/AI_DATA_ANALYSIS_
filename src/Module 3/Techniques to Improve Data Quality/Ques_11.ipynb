{
  "nbformat": 4,
  "nbformat_minor": 0,
  "metadata": {
    "colab": {
      "provenance": []
    },
    "kernelspec": {
      "name": "python3",
      "display_name": "Python 3"
    },
    "language_info": {
      "name": "python"
    }
  },
  "cells": [
    {
      "cell_type": "code",
      "execution_count": null,
      "metadata": {
        "id": "NbPugxQ_yOG4"
      },
      "outputs": [],
      "source": []
    },
    {
      "cell_type": "code",
      "source": [
        "import pandas as pd\n",
        "from sklearn.impute import SimpleImputer\n",
        "\n",
        "# Sample data with missing values\n",
        "data = pd.DataFrame({\n",
        "    'Name': ['Alice', 'Bob', None, 'David'],\n",
        "    'Age': [25, None, 30, 22],\n",
        "    'Salary': [50000, 60000, None, 52000]\n",
        "})\n",
        "\n",
        "# 1. Handle missing categorical data (e.g., Name) using most frequent\n",
        "cat_imputer = SimpleImputer(strategy='most_frequent')\n",
        "data['Name'] = cat_imputer.fit_transform(data[['Name']])\n",
        "\n",
        "# 2. Handle missing numerical data using mean\n",
        "num_imputer = SimpleImputer(strategy='mean')\n",
        "data[['Age', 'Salary']] = num_imputer.fit_transform(data[['Age', 'Salary']])\n",
        "\n",
        "print(data)"
      ],
      "metadata": {
        "id": "RvDT6ukg5C2i"
      },
      "execution_count": null,
      "outputs": []
    }
  ]
}