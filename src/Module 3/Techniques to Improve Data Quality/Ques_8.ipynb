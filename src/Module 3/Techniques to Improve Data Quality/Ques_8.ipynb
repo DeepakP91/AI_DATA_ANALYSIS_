{
  "nbformat": 4,
  "nbformat_minor": 0,
  "metadata": {
    "colab": {
      "provenance": []
    },
    "kernelspec": {
      "name": "python3",
      "display_name": "Python 3"
    },
    "language_info": {
      "name": "python"
    }
  },
  "cells": [
    {
      "cell_type": "code",
      "execution_count": null,
      "metadata": {
        "id": "NbPugxQ_yOG4"
      },
      "outputs": [],
      "source": []
    },
    {
      "cell_type": "code",
      "source": [
        "# Step 1: Install Great Expectations\n",
        "pip install great-expectations\n",
        "# Step 2: Set up a basic Great Expectations environment\n",
        "import great_expectations as ge\n",
        "from great_expectations.core.batch import BatchRequest\n",
        "\n",
        "# Step 3: Create a sample DataFrame\n",
        "import pandas as pd\n",
        "df = pd.DataFrame({\n",
        "    \"id\": [1, 2, 3, 4, 5],\n",
        "    \"value\": [10, 20, None, 40, 50]\n",
        "})\n",
        "\n",
        "# Step 4: Convert to GE dataframe\n",
        "ge_df = ge.dataset.PandasDataset(df)\n",
        "\n",
        "# Step 5: Add expectation to check for no missing values in 'value' column\n",
        "result = ge_df.expect_column_values_to_not_be_null(\"value\")\n",
        "\n",
        "# Step 6: Print result\n",
        "print(result)"
      ],
      "metadata": {
        "id": "bzt4BNa73QwJ"
      },
      "execution_count": null,
      "outputs": []
    }
  ]
}