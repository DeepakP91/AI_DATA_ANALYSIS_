{
  "nbformat": 4,
  "nbformat_minor": 0,
  "metadata": {
    "colab": {
      "provenance": []
    },
    "kernelspec": {
      "name": "python3",
      "display_name": "Python 3"
    },
    "language_info": {
      "name": "python"
    }
  },
  "cells": [
    {
      "cell_type": "code",
      "execution_count": null,
      "metadata": {
        "id": "NbPugxQ_yOG4"
      },
      "outputs": [],
      "source": []
    },
    {
      "cell_type": "code",
      "source": [
        "import pandas as pd\n",
        "import numpy as np\n",
        "from sklearn.ensemble import RandomForestRegressor\n",
        "from sklearn.model_selection import train_test_split\n",
        "\n",
        "# Sample dataset with missing values in 'Age'\n",
        "data = {\n",
        "    'Salary': [50000, 60000, 70000, 80000, 90000, None, 100000, None],\n",
        "    'Experience': [1, 2, 3, 4, 5, 6, 7, 8],\n",
        "    'Age': [25, 30, np.nan, 40, 45, np.nan, 55, 60]\n",
        "}\n",
        "\n",
        "df = pd.DataFrame(data)\n",
        "\n",
        "# Separate known and unknown values\n",
        "train_data = df[df['Age'].notnull()]\n",
        "test_data = df[df['Age'].isnull()]\n",
        "\n",
        "# Features and target\n",
        "X_train = train_data[['Salary', 'Experience']]\n",
        "y_train = train_data['Age']\n",
        "\n",
        "X_test = test_data[['Salary', 'Experience']]\n",
        "\n",
        "# Train the model\n",
        "model = RandomForestRegressor()\n",
        "model.fit(X_train, y_train)\n",
        "\n",
        "# Predict missing ages\n",
        "predicted_ages = model.predict(X_test)\n",
        "\n",
        "# Fill in the missing values\n",
        "df.loc[df['Age'].isnull(), 'Age'] = predicted_ages\n",
        "\n",
        "print(df)"
      ],
      "metadata": {
        "id": "uB-PCPAk37pR"
      },
      "execution_count": null,
      "outputs": []
    }
  ]
}