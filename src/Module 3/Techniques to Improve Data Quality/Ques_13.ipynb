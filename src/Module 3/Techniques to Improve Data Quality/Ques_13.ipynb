{
  "nbformat": 4,
  "nbformat_minor": 0,
  "metadata": {
    "colab": {
      "provenance": []
    },
    "kernelspec": {
      "name": "python3",
      "display_name": "Python 3"
    },
    "language_info": {
      "name": "python"
    }
  },
  "cells": [
    {
      "cell_type": "code",
      "execution_count": null,
      "metadata": {
        "id": "NbPugxQ_yOG4"
      },
      "outputs": [],
      "source": []
    },
    {
      "cell_type": "code",
      "source": [
        "import pandas as pd\n",
        "from sklearn.preprocessing import StandardScaler\n",
        "from sklearn.pipeline import Pipeline\n",
        "from sklearn.compose import ColumnTransformer\n",
        "from sklearn.impute import SimpleImputer\n",
        "\n",
        "# Sample data\n",
        "data = pd.DataFrame({\n",
        "    'Age': [25, 30, None, 22, 40],\n",
        "    'Salary': [50000, 60000, 52000, None, 58000],\n",
        "    'Gender': ['Male', 'Female', 'Female', 'Male', None]\n",
        "})\n",
        "\n",
        "# Define numerical and categorical columns\n",
        "num_cols = ['Age', 'Salary']\n",
        "cat_cols = ['Gender']\n",
        "\n",
        "# 1. Define a preprocessing pipeline\n",
        "numeric_pipeline = Pipeline([\n",
        "    ('imputer', SimpleImputer(strategy='mean')),        # Handle missing values\n",
        "    ('scaler', StandardScaler())                        # Standardize features\n",
        "])\n",
        "\n",
        "categorical_pipeline = Pipeline([\n",
        "    ('imputer', SimpleImputer(strategy='most_frequent'))  # Fill missing categorical data\n",
        "])\n",
        "\n",
        "preprocessor = ColumnTransformer([\n",
        "    ('num', numeric_pipeline, num_cols),\n",
        "    ('cat', categorical_pipeline, cat_cols)\n",
        "])\n",
        "\n",
        "# 2. Apply transformation\n",
        "processed_data = preprocessor.fit_transform(data)\n",
        "\n",
        "# 3. Convert back to DataFrame with appropriate column names\n",
        "processed_df = pd.DataFrame(processed_data, columns=num_cols + cat_cols)\n",
        "\n",
        "print(processed_df)"
      ],
      "metadata": {
        "id": "S6FQdTds55aI"
      },
      "execution_count": null,
      "outputs": []
    }
  ]
}