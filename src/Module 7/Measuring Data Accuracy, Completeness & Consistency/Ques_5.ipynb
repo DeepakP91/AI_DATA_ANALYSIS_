{
  "nbformat": 4,
  "nbformat_minor": 0,
  "metadata": {
    "colab": {
      "provenance": []
    },
    "kernelspec": {
      "name": "python3",
      "display_name": "Python 3"
    },
    "language_info": {
      "name": "python"
    }
  },
  "cells": [
    {
      "cell_type": "code",
      "execution_count": null,
      "metadata": {
        "id": "-JOLkSiIG-34"
      },
      "outputs": [],
      "source": []
    },
    {
      "cell_type": "code",
      "source": [
        "import pandas as pd\n",
        "import matplotlib.pyplot as plt\n",
        "\n",
        "# Load the dataset\n",
        "df = pd.read_csv(\"transaction_data.csv\")\n",
        "\n",
        "# Define critical fields\n",
        "critical_fields = [\"transaction_id\", \"amount\", \"date\"]\n",
        "\n",
        "# Calculate missing percentage\n",
        "missing_percent = df[critical_fields].isnull().mean() * 100\n",
        "\n",
        "# Display missing percentage\n",
        "print(\"Missing Data Percentage for Critical Fields:\")\n",
        "print(missing_percent)\n",
        "\n",
        "# Plot the missing data\n",
        "plt.figure(figsize=(8, 5))\n",
        "missing_percent.plot(kind='bar', color='salmon')\n",
        "plt.title(\"Missing Data Percentage for Critical Fields\")\n",
        "plt.ylabel(\"Missing Percentage (%)\")\n",
        "plt.xticks(rotation=45)\n",
        "plt.grid(axis='y', linestyle='--', alpha=0.7)\n",
        "plt.tight_layout()\n",
        "plt.show()"
      ],
      "metadata": {
        "id": "JxSAKyiMK8V4"
      },
      "execution_count": null,
      "outputs": []
    }
  ]
}