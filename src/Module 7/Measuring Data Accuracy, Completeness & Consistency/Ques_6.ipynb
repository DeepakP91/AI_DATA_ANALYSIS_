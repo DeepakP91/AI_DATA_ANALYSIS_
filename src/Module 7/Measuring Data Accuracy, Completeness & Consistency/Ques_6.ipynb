{
  "nbformat": 4,
  "nbformat_minor": 0,
  "metadata": {
    "colab": {
      "provenance": []
    },
    "kernelspec": {
      "name": "python3",
      "display_name": "Python 3"
    },
    "language_info": {
      "name": "python"
    }
  },
  "cells": [
    {
      "cell_type": "code",
      "execution_count": null,
      "metadata": {
        "id": "-JOLkSiIG-34"
      },
      "outputs": [],
      "source": []
    },
    {
      "cell_type": "code",
      "source": [
        "import pandas as pd\n",
        "from datetime import datetime\n",
        "import os\n",
        "import csv\n",
        "\n",
        "# Simulated accuracy check (for demo)\n",
        "def check_accuracy(df, column, valid_values):\n",
        "    if column not in df.columns:\n",
        "        return None\n",
        "    valid = df[column].isin(valid_values).sum()\n",
        "    total = df[column].notnull().sum()\n",
        "    return round((valid / total) * 100, 2) if total > 0 else None\n",
        "\n",
        "# Completeness check\n",
        "def check_completeness(df, columns):\n",
        "    total_cells = df[columns].shape[0] * len(columns)\n",
        "    missing_cells = df[columns].isnull().sum().sum()\n",
        "    return round((1 - missing_cells / total_cells) * 100, 2) if total_cells > 0 else None\n",
        "\n",
        "# Main monitoring function\n",
        "def monitor_data_quality(data_path, log_path, completeness_fields, accuracy_checks):\n",
        "    df = pd.read_csv(data_path)\n",
        "\n",
        "    # Compute metrics\n",
        "    completeness_score = check_completeness(df, completeness_fields)\n",
        "    accuracy_score = sum([\n",
        "        check_accuracy(df, col, valid) for col, valid in accuracy_checks.items()\n",
        "        if check_accuracy(df, col, valid) is not None\n",
        "    ]) / len(accuracy_checks)\n",
        "\n",
        "    timestamp = datetime.now().strftime(\"%Y-%m-%d %H:%M:%S\")\n",
        "\n",
        "    # Ensure log file exists\n",
        "    if not os.path.exists(log_path):\n",
        "        with open(log_path, 'w', newline='') as f:\n",
        "            writer = csv.writer(f)\n",
        "            writer.writerow([\"timestamp\", \"completeness\", \"accuracy\"])\n",
        "\n",
        "    # Append log entry\n",
        "    with open(log_path, 'a', newline='') as f:\n",
        "        writer = csv.writer(f)\n",
        "        writer.writerow([timestamp, completeness_score, accuracy_score])\n",
        "\n",
        "    print(f\"[{timestamp}] Logged - Completeness: {completeness_score}%, Accuracy: {accuracy_score}%\")\n",
        "\n",
        "# Example usage\n",
        "if _name_ == \"_main_\":\n",
        "    monitor_data_quality(\n",
        "        data_path=\"your_dataset.csv\",\n",
        "        log_path=\"data_quality_log.csv\",\n",
        "        completeness_fields=[\"id\", \"amount\", \"date\"],\n",
        "        accuracy_checks={\n",
        "            \"status\": [\"complete\", \"pending\", \"failed\"],\n",
        "            \"currency\": [\"USD\", \"EUR\", \"GBP\"]\n",
        "        }\n",
        "    )"
      ],
      "metadata": {
        "id": "8fJauAOELWf1"
      },
      "execution_count": null,
      "outputs": []
    }
  ]
}