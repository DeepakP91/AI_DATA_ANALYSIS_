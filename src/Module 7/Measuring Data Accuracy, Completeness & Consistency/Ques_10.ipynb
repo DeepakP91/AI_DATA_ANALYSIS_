{
  "nbformat": 4,
  "nbformat_minor": 0,
  "metadata": {
    "colab": {
      "provenance": []
    },
    "kernelspec": {
      "name": "python3",
      "display_name": "Python 3"
    },
    "language_info": {
      "name": "python"
    }
  },
  "cells": [
    {
      "cell_type": "code",
      "execution_count": null,
      "metadata": {
        "id": "-JOLkSiIG-34"
      },
      "outputs": [],
      "source": []
    },
    {
      "cell_type": "code",
      "source": [
        "import pandas as pd\n",
        "\n",
        "# Load both datasets\n",
        "df1 = pd.read_csv(\"dataset_1.csv\")\n",
        "df2 = pd.read_csv(\"dataset_2.csv\")\n",
        "\n",
        "# Merge on a common key (e.g., 'id')\n",
        "merged = pd.merge(df1, df2, on='id', suffixes=('_df1', '_df2'))\n",
        "\n",
        "# Fields to check for consistency\n",
        "fields_to_check = ['email', 'name', 'category']\n",
        "\n",
        "# Detect conflicts\n",
        "conflicts = pd.DataFrame()\n",
        "conflicts['id'] = merged['id']\n",
        "for field in fields_to_check:\n",
        "    conflicts[field + '_conflict'] = merged[f'{field}_df1'] != merged[f'{field}_df2']\n",
        "\n",
        "# Get rows with any conflict\n",
        "conflict_mask = conflicts[[col for col in conflicts.columns if col.endswith('_conflict')]].any(axis=1)\n",
        "conflicting_records = merged[conflict_mask]\n",
        "\n",
        "print(\"Conflicting records:\")\n",
        "print(conflicting_records[['id'] + [f'{field}_df1' for field in fields_to_check] + [f'{field}_df2' for field in fields_to_check]])\n",
        "\n",
        "# Optional: Resolve conflicts by trusting one source (e.g., dataset_1)\n",
        "resolved = merged.copy()\n",
        "for field in fields_to_check:\n",
        "    resolved[field] = resolved[f'{field}_df1']  # or use df2 if preferred\n",
        "\n",
        "# Save cleaned/resolved dataset\n",
        "resolved = resolved[['id'] + fields_to_check]\n",
        "resolved.to_csv(\"resolved_dataset.csv\", index=False)"
      ],
      "metadata": {
        "id": "oFevhhSWNJEB"
      },
      "execution_count": null,
      "outputs": []
    }
  ]
}