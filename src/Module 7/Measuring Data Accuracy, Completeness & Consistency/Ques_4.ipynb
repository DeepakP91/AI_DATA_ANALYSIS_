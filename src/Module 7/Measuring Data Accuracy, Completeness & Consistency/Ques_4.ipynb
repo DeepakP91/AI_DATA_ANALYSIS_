{
  "nbformat": 4,
  "nbformat_minor": 0,
  "metadata": {
    "colab": {
      "provenance": []
    },
    "kernelspec": {
      "name": "python3",
      "display_name": "Python 3"
    },
    "language_info": {
      "name": "python"
    }
  },
  "cells": [
    {
      "cell_type": "code",
      "execution_count": null,
      "metadata": {
        "id": "-JOLkSiIG-34"
      },
      "outputs": [],
      "source": []
    },
    {
      "cell_type": "code",
      "source": [
        "import pandas as pd\n",
        "\n",
        "# Load the datasets\n",
        "df_a = pd.read_csv(\"products_A.csv\")\n",
        "df_b = pd.read_csv(\"products_B.csv\")\n",
        "\n",
        "# Merge datasets on a common identifier (e.g., 'product_id')\n",
        "merged_df = pd.merge(df_a, df_b, on='product_id', suffixes=('_A', '_B'))\n",
        "\n",
        "# Identify rows where the category values differ\n",
        "inconsistent_categories = merged_df[merged_df['category_A'] != merged_df['category_B']]\n",
        "\n",
        "# Display inconsistent records\n",
        "print(\"Products with inconsistent category information:\")\n",
        "print(inconsistent_categories[['product_id', 'category_A', 'category_B']])"
      ],
      "metadata": {
        "id": "y8OQIyqYKcAx"
      },
      "execution_count": null,
      "outputs": []
    }
  ]
}