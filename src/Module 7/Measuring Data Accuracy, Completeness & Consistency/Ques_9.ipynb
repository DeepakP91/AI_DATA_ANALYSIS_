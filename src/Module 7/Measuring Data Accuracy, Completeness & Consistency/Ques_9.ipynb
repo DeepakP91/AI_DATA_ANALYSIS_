{
  "nbformat": 4,
  "nbformat_minor": 0,
  "metadata": {
    "colab": {
      "provenance": []
    },
    "kernelspec": {
      "name": "python3",
      "display_name": "Python 3"
    },
    "language_info": {
      "name": "python"
    }
  },
  "cells": [
    {
      "cell_type": "code",
      "execution_count": null,
      "metadata": {
        "id": "-JOLkSiIG-34"
      },
      "outputs": [],
      "source": []
    },
    {
      "cell_type": "code",
      "source": [
        "import pandas as pd\n",
        "\n",
        "# Load your dataset\n",
        "df = pd.read_csv(\"your_dataset.csv\")\n",
        "\n",
        "# Calculate missing data rate for each column\n",
        "missing_rate = df.isnull().mean() * 100\n",
        "\n",
        "# Display missing rate\n",
        "print(\"Missing Data Percentage by Column:\")\n",
        "print(missing_rate)\n",
        "\n",
        "# Identify partially complete records (i.e., rows with some but not all missing fields)\n",
        "partially_available = df[df.isnull().any(axis=1) & ~df.isnull().all(axis=1)]\n",
        "\n",
        "print(f\"\\nTotal partially available records: {len(partially_available)}\")\n",
        "print(partially_available.head())\n",
        "\n",
        "# Optional: Save partial records to a CSV\n",
        "partially_available.to_csv(\"partially_available_records.csv\", index=False)\n",
        "\n",
        "# Optional: Drop rows or columns based on completeness threshold (e.g., drop rows with >50% missing)\n",
        "threshold = 0.5\n",
        "df_filtered = df[df.isnull().mean(axis=1) < threshold]\n",
        "\n",
        "print(f\"\\nRecords retained after filtering (less than {threshold*100}% missing): {len(df_filtered)}\")"
      ],
      "metadata": {
        "id": "MpZxMtVLMw59"
      },
      "execution_count": null,
      "outputs": []
    }
  ]
}