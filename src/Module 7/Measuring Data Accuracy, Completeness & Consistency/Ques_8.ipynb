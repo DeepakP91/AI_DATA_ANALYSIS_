{
  "nbformat": 4,
  "nbformat_minor": 0,
  "metadata": {
    "colab": {
      "provenance": []
    },
    "kernelspec": {
      "name": "python3",
      "display_name": "Python 3"
    },
    "language_info": {
      "name": "python"
    }
  },
  "cells": [
    {
      "cell_type": "code",
      "execution_count": null,
      "metadata": {
        "id": "-JOLkSiIG-34"
      },
      "outputs": [],
      "source": []
    },
    {
      "cell_type": "code",
      "source": [
        "import pandas as pd\n",
        "\n",
        "# Load primary and trusted datasets\n",
        "df_actual = pd.read_csv(\"your_dataset.csv\")             # Dataset to validate\n",
        "df_trusted = pd.read_csv(\"trusted_dataset.csv\")         # Trusted source\n",
        "\n",
        "# Merge both datasets on a unique identifier (e.g., 'id')\n",
        "merged_df = pd.merge(df_actual, df_trusted, on=\"id\", suffixes=('_actual', '_trusted'))\n",
        "\n",
        "# Columns to compare for accuracy\n",
        "columns_to_check = [\"name\", \"email\", \"amount\"]\n",
        "\n",
        "# Detect mismatches\n",
        "for col in columns_to_check:\n",
        "    mismatch_col = f\"{col}_mismatch\"\n",
        "    merged_df[mismatch_col] = merged_df[f\"{col}_actual\"] != merged_df[f\"{col}_trusted\"]\n",
        "\n",
        "# Filter records with any mismatches\n",
        "mismatch_mask = merged_df[[f\"{col}_mismatch\" for col in columns_to_check]].any(axis=1)\n",
        "inaccurate_records = merged_df[mismatch_mask]\n",
        "\n",
        "# Output mismatches\n",
        "print(\"Inaccurate records found:\")\n",
        "print(inaccurate_records[[\"id\"] + [f\"{col}_actual\" for col in columns_to_check] + [f\"{col}_trusted\" for col in columns_to_check]])\n",
        "\n",
        "# Optional: Accuracy Score\n",
        "total_records = len(merged_df)\n",
        "accurate_records = total_records - len(inaccurate_records)\n",
        "accuracy_percentage = round((accurate_records / total_records) * 100, 2)\n",
        "print(f\"\\nOverall Data Accuracy: {accuracy_percentage}%\")"
      ],
      "metadata": {
        "id": "-gJ8RFdjMUV3"
      },
      "execution_count": null,
      "outputs": []
    }
  ]
}