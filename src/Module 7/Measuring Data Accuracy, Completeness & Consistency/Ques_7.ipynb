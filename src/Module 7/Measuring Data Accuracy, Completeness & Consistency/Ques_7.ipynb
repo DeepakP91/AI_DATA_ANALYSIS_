{
  "nbformat": 4,
  "nbformat_minor": 0,
  "metadata": {
    "colab": {
      "provenance": []
    },
    "kernelspec": {
      "name": "python3",
      "display_name": "Python 3"
    },
    "language_info": {
      "name": "python"
    }
  },
  "cells": [
    {
      "cell_type": "code",
      "execution_count": null,
      "metadata": {
        "id": "-JOLkSiIG-34"
      },
      "outputs": [],
      "source": []
    },
    {
      "cell_type": "code",
      "source": [
        "import pandas as pd\n",
        "\n",
        "# Load the datasets\n",
        "orders_df = pd.read_csv(\"orders.csv\")\n",
        "order_items_df = pd.read_csv(\"order_items.csv\")\n",
        "\n",
        "# Check for orders without corresponding items\n",
        "orders_with_items = order_items_df['order_id'].unique()\n",
        "orders_without_items = orders_df[~orders_df['order_id'].isin(orders_with_items)]\n",
        "\n",
        "# Display inconsistent orders\n",
        "print(\"Orders without corresponding items:\")\n",
        "print(orders_without_items)\n",
        "\n",
        "# Optional: Count and report\n",
        "print(f\"\\nTotal orders: {len(orders_df)}\")\n",
        "print(f\"Orders without items: {len(orders_without_items)}\")\n",
        "print(f\"Percentage missing: {round(len(orders_without_items) / len(orders_df) * 100, 2)}%\")"
      ],
      "metadata": {
        "id": "Fovf8tJvL0tF"
      },
      "execution_count": null,
      "outputs": []
    }
  ]
}