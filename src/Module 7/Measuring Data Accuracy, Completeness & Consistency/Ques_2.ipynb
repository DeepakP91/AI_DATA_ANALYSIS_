{
  "nbformat": 4,
  "nbformat_minor": 0,
  "metadata": {
    "colab": {
      "provenance": []
    },
    "kernelspec": {
      "name": "python3",
      "display_name": "Python 3"
    },
    "language_info": {
      "name": "python"
    }
  },
  "cells": [
    {
      "cell_type": "code",
      "execution_count": null,
      "metadata": {
        "id": "-JOLkSiIG-34"
      },
      "outputs": [],
      "source": []
    },
    {
      "cell_type": "code",
      "source": [
        "import pandas as pd\n",
        "\n",
        "# Load the datasets\n",
        "crm_df = pd.read_csv(\"crm_customers.csv\")\n",
        "erp_df = pd.read_csv(\"erp_customers.csv\")\n",
        "\n",
        "# Merge datasets on customer ID (or any unique identifier like name, if ID is unavailable)\n",
        "# Assuming both have a 'customer_id' column\n",
        "merged_df = pd.merge(crm_df, erp_df, on=\"customer_id\", suffixes=('_crm', '_erp'))\n",
        "\n",
        "# Find rows where emails differ\n",
        "conflicting_emails = merged_df[merged_df['email_crm'] != merged_df['email_erp']]\n",
        "\n",
        "# Show result\n",
        "print(\"Customers with conflicting email addresses:\")\n",
        "print(conflicting_emails[['customer_id', 'email_crm', 'email_erp']])"
      ],
      "metadata": {
        "id": "qLhtnh4AJpK-"
      },
      "execution_count": null,
      "outputs": []
    }
  ]
}