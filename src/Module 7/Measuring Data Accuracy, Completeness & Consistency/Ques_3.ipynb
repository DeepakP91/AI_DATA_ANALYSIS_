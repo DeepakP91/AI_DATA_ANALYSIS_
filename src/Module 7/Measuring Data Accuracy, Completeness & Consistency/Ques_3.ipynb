{
  "nbformat": 4,
  "nbformat_minor": 0,
  "metadata": {
    "colab": {
      "provenance": []
    },
    "kernelspec": {
      "name": "python3",
      "display_name": "Python 3"
    },
    "language_info": {
      "name": "python"
    }
  },
  "cells": [
    {
      "cell_type": "code",
      "execution_count": null,
      "metadata": {
        "id": "-JOLkSiIG-34"
      },
      "outputs": [],
      "source": []
    },
    {
      "cell_type": "code",
      "source": [
        "import pandas as pd\n",
        "import matplotlib.pyplot as plt\n",
        "\n",
        "# Load the dataset\n",
        "df = pd.read_csv(\"sales_data.csv\")\n",
        "\n",
        "# Convert 'date' column to datetime\n",
        "df['date'] = pd.to_datetime(df['date'], errors='coerce')\n",
        "\n",
        "# Drop rows where date couldn't be parsed\n",
        "df = df.dropna(subset=['date'])\n",
        "\n",
        "# Extract month (format: YYYY-MM)\n",
        "df['month'] = df['date'].dt.to_period('M')\n",
        "\n",
        "# Calculate missing rate per month\n",
        "monthly_missing = df.isnull().groupby(df['month']).mean() * 100\n",
        "\n",
        "# Plot missing data percentage trend\n",
        "plt.figure(figsize=(12, 6))\n",
        "for col in monthly_missing.columns:\n",
        "    plt.plot(monthly_missing.index.astype(str), monthly_missing[col], label=col)\n",
        "\n",
        "plt.title(\"Missing Data Rate by Month\")\n",
        "plt.xlabel(\"Month\")\n",
        "plt.ylabel(\"Missing Value Percentage (%)\")\n",
        "plt.xticks(rotation=45)\n",
        "plt.legend(loc=\"upper right\")\n",
        "plt.tight_layout()\n",
        "plt.grid(True)\n",
        "plt.show()"
      ],
      "metadata": {
        "id": "YE54fmxeKBr5"
      },
      "execution_count": null,
      "outputs": []
    }
  ]
}