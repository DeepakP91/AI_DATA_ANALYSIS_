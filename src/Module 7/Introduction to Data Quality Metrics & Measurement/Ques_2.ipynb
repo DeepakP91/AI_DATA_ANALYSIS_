{
  "nbformat": 4,
  "nbformat_minor": 0,
  "metadata": {
    "colab": {
      "provenance": []
    },
    "kernelspec": {
      "name": "python3",
      "display_name": "Python 3"
    },
    "language_info": {
      "name": "python"
    }
  },
  "cells": [
    {
      "cell_type": "code",
      "execution_count": null,
      "metadata": {
        "id": "-JOLkSiIG-34"
      },
      "outputs": [],
      "source": []
    },
    {
      "cell_type": "code",
      "source": [
        "import pandas as pd\n",
        "import numpy as np\n",
        "from datetime import datetime, timedelta\n",
        "\n",
        "# Load the dataset\n",
        "df = pd.read_csv(\"/mnt/data/file-PGUdoCDJHVQAiB5rTTjGuJ\")\n",
        "\n",
        "# Define data quality dimension functions\n",
        "def completeness(df):\n",
        "    total = df.size\n",
        "    missing = df.isnull().sum().sum()\n",
        "    return round(100 * (1 - missing / total), 2)\n",
        "\n",
        "def uniqueness(df):\n",
        "    duplicates = df.duplicated().sum()\n",
        "    return round(100 * (1 - duplicates / len(df)), 2)\n",
        "\n",
        "def validity(df, rules={}):\n",
        "    # Example: Rules can be passed as {column: function}\n",
        "    valid_counts = 0\n",
        "    total_checks = 0\n",
        "    for col, func in rules.items():\n",
        "        valid_counts += df[col].apply(func).sum()\n",
        "        total_checks += df[col].notnull().sum()\n",
        "    if total_checks == 0:\n",
        "        return np.nan\n",
        "    return round(100 * (valid_counts / total_checks), 2)\n",
        "\n",
        "def consistency(df, constraints=[]):\n",
        "    # Example: Each constraint is a boolean mask or lambda that returns a mask\n",
        "    if not constraints:\n",
        "        return np.nan\n",
        "    passed = 0\n",
        "    for rule in constraints:\n",
        "        if isinstance(rule, pd.Series):\n",
        "            passed += rule.sum()\n",
        "        else:\n",
        "            passed += rule(df).sum()\n",
        "    total = len(df) * len(constraints)\n",
        "    return round(100 * (passed / total), 2)\n",
        "\n",
        "def accuracy(df):\n",
        "    # Placeholder: Typically requires comparison with source-of-truth data\n",
        "    return np.nan  # You can update this based on known correct data\n",
        "\n",
        "def timeliness(df, date_column, threshold_days=365):\n",
        "    if date_column not in df.columns:\n",
        "        return np.nan\n",
        "    recent_threshold = datetime.now() - timedelta(days=threshold_days)\n",
        "    recent_count = pd.to_datetime(df[date_column], errors='coerce') >= recent_threshold\n",
        "    return round(100 * recent_count.sum() / df[date_column].notnull().sum(), 2)\n",
        "\n",
        "# Example validity rules\n",
        "validity_rules = {\n",
        "    'Email': lambda x: isinstance(x, str) and '@' in x,\n",
        "    'Phone': lambda x: isinstance(x, str) and len(x) == 14 and x.startswith('(')\n",
        "}\n",
        "\n",
        "# Example consistency rule (e.g., Country code matches region logic)\n",
        "consistency_rules = [\n",
        "    lambda df: df['Country'] == 'USA'  # Just a placeholder\n",
        "]\n",
        "\n",
        "# Compute dimension scores\n",
        "scores = {\n",
        "    'Completeness': completeness(df),\n",
        "    'Uniqueness': uniqueness(df),\n",
        "    'Validity': validity(df, validity_rules),\n",
        "    'Consistency': consistency(df, consistency_rules),\n",
        "    'Accuracy': accuracy(df),\n",
        "    'Timeliness': timeliness(df, date_column='LastUpdated')  # Replace column name as needed\n",
        "}\n",
        "\n",
        "# Convert to DataFrame\n",
        "result_df = pd.DataFrame(list(scores.items()), columns=[\"Dimension\", \"Score\"])\n",
        "\n",
        "# Print results\n",
        "print(\"ISO 8000 Data Quality Assessment\")\n",
        "print(result_df)"
      ],
      "metadata": {
        "id": "WNivtEQAI5Sq"
      },
      "execution_count": null,
      "outputs": []
    }
  ]
}