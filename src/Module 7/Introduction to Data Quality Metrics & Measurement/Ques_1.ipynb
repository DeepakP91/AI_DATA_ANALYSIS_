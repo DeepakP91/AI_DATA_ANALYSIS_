{
  "nbformat": 4,
  "nbformat_minor": 0,
  "metadata": {
    "colab": {
      "provenance": []
    },
    "kernelspec": {
      "name": "python3",
      "display_name": "Python 3"
    },
    "language_info": {
      "name": "python"
    }
  },
  "cells": [
    {
      "cell_type": "code",
      "execution_count": null,
      "metadata": {
        "id": "-JOLkSiIG-34"
      },
      "outputs": [],
      "source": []
    },
    {
      "cell_type": "code",
      "source": [
        "pip install pandas dash plotly\n",
        "import pandas as pd\n",
        "import dash\n",
        "from dash import dcc, html\n",
        "import plotly.express as px\n",
        "\n",
        "# Load your dataset (replace with your uploaded file path)\n",
        "df = pd.read_csv(\"/mnt/data/file-SnLVEXRAFCopJYwQ3T2UDZ\")\n",
        "\n",
        "# Compute data quality metrics\n",
        "def calculate_metrics(dataframe):\n",
        "    total_rows = len(dataframe)\n",
        "    total_columns = len(dataframe.columns)\n",
        "\n",
        "    metrics = {\n",
        "        \"Column\": [],\n",
        "        \"Missing %\": [],\n",
        "        \"Unique Values\": [],\n",
        "        \"Data Type\": []\n",
        "    }\n",
        "\n",
        "    for col in dataframe.columns:\n",
        "        metrics[\"Column\"].append(col)\n",
        "        metrics[\"Missing %\"].append(round(dataframe[col].isna().sum() / total_rows * 100, 2))\n",
        "        metrics[\"Unique Values\"].append(dataframe[col].nunique())\n",
        "        metrics[\"Data Type\"].append(dataframe[col].dtype)\n",
        "\n",
        "    return pd.DataFrame(metrics)\n",
        "\n",
        "metrics_df = calculate_metrics(df)\n",
        "\n",
        "# Start Dash app\n",
        "app = dash.Dash(_name_)\n",
        "app.title = \"Data Quality Dashboard\"\n",
        "\n",
        "# Layout\n",
        "app.layout = html.Div([\n",
        "    html.H1(\"Data Quality Dashboard\"),\n",
        "\n",
        "    dcc.Graph(\n",
        "        figure=px.bar(metrics_df, x=\"Column\", y=\"Missing %\", title=\"Missing Values by Column\")\n",
        "    ),\n",
        "\n",
        "    dcc.Graph(\n",
        "        figure=px.bar(metrics_df, x=\"Column\", y=\"Unique Values\", title=\"Unique Values by Column\")\n",
        "    ),\n",
        "\n",
        "    html.H4(\"Data Types\"),\n",
        "    html.Table([\n",
        "        html.Thead(html.Tr([html.Th(col) for col in metrics_df.columns])),\n",
        "        html.Tbody([\n",
        "            html.Tr([html.Td(metrics_df.iloc[i][col]) for col in metrics_df.columns])\n",
        "            for i in range(len(metrics_df))\n",
        "        ])\n",
        "    ])\n",
        "])\n",
        "\n",
        "if _name_ == '_main_':\n",
        "    app.run_server(debug=True)"
      ],
      "metadata": {
        "id": "bVia0_T0HttP"
      },
      "execution_count": null,
      "outputs": []
    }
  ]
}