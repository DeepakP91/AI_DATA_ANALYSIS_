{
  "nbformat": 4,
  "nbformat_minor": 0,
  "metadata": {
    "colab": {
      "provenance": []
    },
    "kernelspec": {
      "name": "python3",
      "display_name": "Python 3"
    },
    "language_info": {
      "name": "python"
    }
  },
  "cells": [
    {
      "cell_type": "code",
      "execution_count": null,
      "metadata": {
        "id": "zCUuCA9u7K7G"
      },
      "outputs": [],
      "source": []
    },
    {
      "cell_type": "code",
      "source": [],
      "metadata": {
        "id": "uetfqVSB7Yab"
      },
      "execution_count": null,
      "outputs": []
    },
    {
      "cell_type": "code",
      "source": [
        " pip install pandas numpy\n",
        " pip install ydata-profiling\n",
        " import pandas as pd\n",
        "import numpy as np\n",
        "\n",
        "# Step 1: Load Data\n",
        "df = pd.read_csv(\"raw_data.csv\")\n",
        "\n",
        "# Step 2: Initial Summary\n",
        "print(\"Initial Data Overview:\")\n",
        "print(df.info())\n",
        "print(df.describe(include='all'))\n",
        "\n",
        "# Step 3: Data Cleaning Automation\n",
        "\n",
        "# Remove duplicate rows\n",
        "before = df.shape[0]\n",
        "df.drop_duplicates(inplace=True)\n",
        "after = df.shape[0]\n",
        "print(f\"Removed {before - after} duplicate rows.\")\n",
        "\n",
        "# Handle missing values\n",
        "# Strategy: Fill numeric columns with median, categorical with mode\n",
        "for col in df.columns:\n",
        "    if df[col].isnull().sum() > 0:\n",
        "        if df[col].dtype in [np.float64, np.int64]:\n",
        "            median = df[col].median()\n",
        "            df[col].fillna(median, inplace=True)\n",
        "            print(f\"Filled missing values in numeric column '{col}' with median: {median}\")\n",
        "        else:\n",
        "            mode = df[col].mode()[0]\n",
        "            df[col].fillna(mode, inplace=True)\n",
        "            print(f\"Filled missing values in categorical column '{col}' with mode: {mode}\")\n",
        "\n",
        "# Optional: Convert object columns to category or datetime if needed\n",
        "for col in df.select_dtypes(include='object'):\n",
        "    if \"date\" in col.lower():\n",
        "        try:\n",
        "            df[col] = pd.to_datetime(df[col])\n",
        "            print(f\"Converted column '{col}' to datetime.\")\n",
        "        except Exception as e:\n",
        "            print(f\"Could not convert '{col}' to datetime: {e}\")\n",
        "    else:\n",
        "        df[col] = df[col].astype('category')\n",
        "        print(f\"Converted column '{col}' to category.\")\n",
        "\n",
        "# Step 4: Save cleaned data\n",
        "df.to_csv(\"cleaned_data.csv\", index=False)\n",
        "print(\"Cleaned data saved to 'cleaned_data.csv'\")"
      ],
      "metadata": {
        "id": "3Cd6jAUG9SNK"
      },
      "execution_count": null,
      "outputs": []
    }
  ]
}