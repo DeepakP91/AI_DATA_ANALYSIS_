{
  "nbformat": 4,
  "nbformat_minor": 0,
  "metadata": {
    "colab": {
      "provenance": []
    },
    "kernelspec": {
      "name": "python3",
      "display_name": "Python 3"
    },
    "language_info": {
      "name": "python"
    }
  },
  "cells": [
    {
      "cell_type": "code",
      "execution_count": null,
      "metadata": {
        "id": "zCUuCA9u7K7G"
      },
      "outputs": [],
      "source": []
    },
    {
      "cell_type": "code",
      "source": [
        "pip install pandas numpy\n",
        "import pandas as pd\n",
        "import numpy as np\n",
        "\n",
        "# Step 1: Load Raw Data\n",
        "df = pd.read_csv(\"raw_data.csv\")\n",
        "\n",
        "# Step 2: Initial Data Overview\n",
        "print(\"Initial Shape:\", df.shape)\n",
        "print(\"Missing values per column:\\n\", df.isnull().sum())\n",
        "\n",
        "# Step 3: Remove Duplicates\n",
        "duplicates = df.duplicated().sum()\n",
        "df.drop_duplicates(inplace=True)\n",
        "print(f\"Removed {duplicates} duplicate rows.\")\n",
        "\n",
        "# Step 4: Handle Missing Values\n",
        "# Fill numeric with median, categorical with mode\n",
        "for col in df.columns:\n",
        "    if df[col].isnull().sum() > 0:\n",
        "        if pd.api.types.is_numeric_dtype(df[col]):\n",
        "            median = df[col].median()\n",
        "            df[col].fillna(median, inplace=True)\n",
        "            print(f\"Filled missing values in '{col}' with median: {median}\")\n",
        "        else:\n",
        "            mode = df[col].mode().iloc[0]\n",
        "            df[col].fillna(mode, inplace=True)\n",
        "            print(f\"Filled missing values in '{col}' with mode: {mode}\")\n",
        "\n",
        "# Step 5: Standardize Column Names\n",
        "df.columns = df.columns.str.strip().str.lower().str.replace(\" \", \"_\")\n",
        "print(\"Standardized column names.\")\n",
        "\n",
        "# Step 6: Convert Dates Automatically\n",
        "for col in df.select_dtypes(include='object').columns:\n",
        "    if 'date' in col or 'time' in col:\n",
        "        try:\n",
        "            df[col] = pd.to_datetime(df[col])\n",
        "            print(f\"Converted '{col}' to datetime.\")\n",
        "        except:\n",
        "            continue\n",
        "\n",
        "# Step 7: Convert Object Columns to Category\n",
        "for col in df.select_dtypes(include='object'):\n",
        "    df[col] = df[col].astype('category')\n",
        "    print(f\"Converted '{col}' to category.\")\n",
        "\n",
        "# Step 8: Save Cleaned Data\n",
        "df.to_csv(\"cleaned_data.csv\", index=False)\n",
        "print(\"Cleaned data saved as 'cleaned_data.csv'\")"
      ],
      "metadata": {
        "id": "uetfqVSB7Yab"
      },
      "execution_count": null,
      "outputs": []
    }
  ]
}