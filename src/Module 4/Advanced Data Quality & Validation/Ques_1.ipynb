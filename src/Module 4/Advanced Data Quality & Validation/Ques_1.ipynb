{
  "nbformat": 4,
  "nbformat_minor": 0,
  "metadata": {
    "colab": {
      "provenance": []
    },
    "kernelspec": {
      "name": "python3",
      "display_name": "Python 3"
    },
    "language_info": {
      "name": "python"
    }
  },
  "cells": [
    {
      "cell_type": "code",
      "execution_count": null,
      "metadata": {
        "id": "zCUuCA9u7K7G"
      },
      "outputs": [],
      "source": []
    },
    {
      "cell_type": "code",
      "source": [],
      "metadata": {
        "id": "uetfqVSB7Yab"
      },
      "execution_count": null,
      "outputs": []
    },
    {
      "cell_type": "code",
      "source": [
        "import pandas as pd\n",
        "from sklearn.ensemble import RandomForestClassifier\n",
        "from sklearn.metrics import accuracy_score\n",
        "from evidently.report import Report\n",
        "from evidently.metric_preset import DataDriftPreset\n",
        "\n",
        "# Simulate training and production data\n",
        "# Step 1: Load or create data\n",
        "train_data = pd.read_csv(\"train.csv\")       # Historical/training dataset\n",
        "prod_data = pd.read_csv(\"production.csv\")   # Recent/production dataset\n",
        "\n",
        "# Step 2: Split features and target\n",
        "X_train = train_data.drop(columns=\"target\")\n",
        "y_train = train_data[\"target\"]\n",
        "\n",
        "X_prod = prod_data.drop(columns=\"target\")\n",
        "y_prod = prod_data[\"target\"]\n",
        "\n",
        "# Step 3: Train a model\n",
        "model = RandomForestClassifier()\n",
        "model.fit(X_train, y_train)\n",
        "\n",
        "# Step 4: Evaluate model on both datasets\n",
        "train_pred = model.predict(X_train)\n",
        "prod_pred = model.predict(X_prod)\n",
        "\n",
        "print(\"Train Accuracy:\", accuracy_score(y_train, train_pred))\n",
        "print(\"Production Accuracy:\", accuracy_score(y_prod, prod_pred))\n",
        "\n",
        "# Step 5: Check for data drift\n",
        "drift_report = Report(metrics=[DataDriftPreset()])\n",
        "drift_report.run(reference_data=X_train, current_data=X_prod)\n",
        "drift_report.show(mode=\"inline\")  # Use \"dashboard\" to open in browser"
      ],
      "metadata": {
        "id": "_Eaj5Id07ZPO"
      },
      "execution_count": null,
      "outputs": []
    }
  ]
}