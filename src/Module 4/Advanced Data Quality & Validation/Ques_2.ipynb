{
  "nbformat": 4,
  "nbformat_minor": 0,
  "metadata": {
    "colab": {
      "provenance": []
    },
    "kernelspec": {
      "name": "python3",
      "display_name": "Python 3"
    },
    "language_info": {
      "name": "python"
    }
  },
  "cells": [
    {
      "cell_type": "code",
      "execution_count": null,
      "metadata": {
        "id": "zCUuCA9u7K7G"
      },
      "outputs": [],
      "source": []
    },
    {
      "cell_type": "code",
      "source": [],
      "metadata": {
        "id": "uetfqVSB7Yab"
      },
      "execution_count": null,
      "outputs": []
    },
    {
      "cell_type": "code",
      "source": [
        "pip install pandas scikit-learn evidently\n",
        "import pandas as pd\n",
        "from sklearn.ensemble import RandomForestClassifier\n",
        "from sklearn.metrics import accuracy_score\n",
        "from evidently.report import Report\n",
        "from evidently.metric_preset import DataDriftPreset, DataQualityPreset\n",
        "\n",
        "# Step 1: Load or create datasets\n",
        "train_data = pd.read_csv(\"train.csv\")         # Training or reference data\n",
        "prod_data = pd.read_csv(\"production.csv\")     # Current/production data\n",
        "\n",
        "# Step 2: Separate features and target\n",
        "X_train = train_data.drop(columns=[\"target\"])\n",
        "y_train = train_data[\"target\"]\n",
        "\n",
        "X_prod = prod_data.drop(columns=[\"target\"])\n",
        "y_prod = prod_data[\"target\"]\n",
        "\n",
        "# Step 3: Train a model on training data\n",
        "model = RandomForestClassifier()\n",
        "model.fit(X_train, y_train)\n",
        "\n",
        "# Step 4: Evaluate performance\n",
        "train_acc = accuracy_score(y_train, model.predict(X_train))\n",
        "prod_acc = accuracy_score(y_prod, model.predict(X_prod))\n",
        "\n",
        "print(f\"Training Accuracy: {train_acc:.2f}\")\n",
        "print(f\"Production Accuracy: {prod_acc:.2f}\")\n",
        "\n",
        "# Step 5: Generate Evidently report for Data Drift and Data Quality\n",
        "report = Report(metrics=[\n",
        "    DataDriftPreset(),\n",
        "    DataQualityPreset()\n",
        "])\n",
        "\n",
        "report.run(reference_data=X_train, current_data=X_prod)\n",
        "report.save_html(\"data_drift_and_quality_report.html\")\n",
        "\n",
        "print(\"Report saved as data_drift_and_quality_report.html\")"
      ],
      "metadata": {
        "id": "8vmCYIkx8W9s"
      },
      "execution_count": null,
      "outputs": []
    }
  ]
}