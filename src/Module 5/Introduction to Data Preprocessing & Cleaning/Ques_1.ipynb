{
  "nbformat": 4,
  "nbformat_minor": 0,
  "metadata": {
    "colab": {
      "provenance": []
    },
    "kernelspec": {
      "name": "python3",
      "display_name": "Python 3"
    },
    "language_info": {
      "name": "python"
    }
  },
  "cells": [
    {
      "cell_type": "code",
      "execution_count": null,
      "metadata": {
        "id": "zCUuCA9u7K7G"
      },
      "outputs": [],
      "source": [
        "pip install pandas numpy\n",
        "import pandas as pd\n",
        "import numpy as np\n",
        "\n",
        "# Step 1: Load raw data\n",
        "df = pd.read_csv(\"raw_data.csv\")\n",
        "\n",
        "# Step 2: Initial overview\n",
        "print(\"Initial shape:\", df.shape)\n",
        "print(\"Missing values:\\n\", df.isnull().sum())\n",
        "\n",
        "# Step 3: Remove exact duplicates\n",
        "dups = df.duplicated().sum()\n",
        "df.drop_duplicates(inplace=True)\n",
        "print(f\"Removed {dups} duplicate rows.\")\n",
        "\n",
        "# Step 4: Strip whitespaces from string columns\n",
        "for col in df.select_dtypes(include='object').columns:\n",
        "    df[col] = df[col].str.strip()\n",
        "\n",
        "# Step 5: Standardize column names\n",
        "df.columns = df.columns.str.strip().str.lower().str.replace(r'[^a-z0-9_]', '', regex=True)\n",
        "\n",
        "# Step 6: Handle missing values\n",
        "for col in df.columns:\n",
        "    if df[col].isnull().sum() > 0:\n",
        "        if pd.api.types.is_numeric_dtype(df[col]):\n",
        "            median = df[col].median()\n",
        "            df[col].fillna(median, inplace=True)\n",
        "            print(f\"Filled missing numeric values in '{col}' with median: {median}\")\n",
        "        else:\n",
        "            mode = df[col].mode().iloc[0]\n",
        "            df[col].fillna(mode, inplace=True)\n",
        "            print(f\"Filled missing categorical values in '{col}' with mode: {mode}\")\n",
        "\n",
        "# Step 7: Convert dates and standardize format\n",
        "for col in df.columns:\n",
        "    if \"date\" in col or \"time\" in col:\n",
        "        try:\n",
        "            df[col] = pd.to_datetime(df[col], errors='coerce')\n",
        "            print(f\"Converted '{col}' to datetime.\")\n",
        "        except:\n",
        "            pass\n",
        "\n",
        "# Step 8: Fix inconsistent data types (e.g., numbers stored as strings)\n",
        "for col in df.columns:\n",
        "    if df[col].dtype == 'object':\n",
        "        try:\n",
        "            df[col] = pd.to_numeric(df[col])\n",
        "            print(f\"Converted '{col}' to numeric.\")\n",
        "        except:\n",
        "            pass\n",
        "\n",
        "# Step 9: Handle outliers (optional - using IQR method)\n",
        "numeric_cols = df.select_dtypes(include=np.number).columns\n",
        "for col in numeric_cols:\n",
        "    Q1 = df[col].quantile(0.25)\n",
        "    Q3 = df[col].quantile(0.75)\n",
        "    IQR = Q3 - Q1\n",
        "    lower = Q1 - 1.5 * IQR\n",
        "    upper = Q3 + 1.5 * IQR\n",
        "    outliers = ((df[col] < lower) | (df[col] > upper)).sum()\n",
        "    df[col] = np.where(df[col] < lower, lower,\n",
        "              np.where(df[col] > upper, upper, df[col]))\n",
        "    if outliers > 0:\n",
        "        print(f\"Clipped {outliers} outliers in column '{col}' using IQR.\")\n",
        "\n",
        "# Step 10: Save cleaned data\n",
        "df.to_csv(\"cleaned_data.csv\", index=False)\n",
        "print(\"Cleaned data saved as 'cleaned_data.csv'\")"
      ]
    }
  ]
}