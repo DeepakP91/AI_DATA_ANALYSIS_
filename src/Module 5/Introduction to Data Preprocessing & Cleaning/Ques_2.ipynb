{
  "nbformat": 4,
  "nbformat_minor": 0,
  "metadata": {
    "colab": {
      "provenance": []
    },
    "kernelspec": {
      "name": "python3",
      "display_name": "Python 3"
    },
    "language_info": {
      "name": "python"
    }
  },
  "cells": [
    {
      "cell_type": "code",
      "source": [
        "import pandas as pd\n",
        "import numpy as np\n",
        "\n",
        "# Load data\n",
        "df = pd.read_csv(\"raw_data.csv\")\n",
        "\n",
        "print(\"=== DATA ISSUE REPORT ===\")\n",
        "\n",
        "# 1. Missing Values\n",
        "missing = df.isnull().sum()\n",
        "print(\"\\nMissing Values:\\n\", missing[missing > 0])\n",
        "\n",
        "# 2. Duplicate Rows\n",
        "duplicates = df.duplicated().sum()\n",
        "print(f\"\\nDuplicate Rows: {duplicates}\")\n",
        "\n",
        "# 3. Data Type Mismatches\n",
        "print(\"\\nColumn Data Types:\")\n",
        "print(df.dtypes)\n",
        "\n",
        "# 4. Inconsistent String Formatting\n",
        "print(\"\\nString Columns with Leading/Trailing Spaces:\")\n",
        "for col in df.select_dtypes(include='object'):\n",
        "    sample = df[col].dropna().astype(str)\n",
        "    if sample.str.contains(r'^\\s+|\\s+$', regex=True).any():\n",
        "        print(f\"- {col}\")\n",
        "\n",
        "# 5. Outliers (IQR Method)\n",
        "print(\"\\nOutlier Detection (IQR):\")\n",
        "for col in df.select_dtypes(include=np.number):\n",
        "    Q1 = df[col].quantile(0.25)\n",
        "    Q3 = df[col].quantile(0.75)\n",
        "    IQR = Q3 - Q1\n",
        "    lower = Q1 - 1.5 * IQR\n",
        "    upper = Q3 + 1.5 * IQR\n",
        "    outliers = df[(df[col] < lower) | (df[col] > upper)]\n",
        "    if not outliers.empty:\n",
        "        print(f\"- {col}: {outliers.shape[0]} outliers\")\n",
        "\n",
        "# 6. Custom Checks (e.g., negative values for age/salary)\n",
        "print(\"\\nInvalid Value Checks:\")\n",
        "if 'age' in df.columns:\n",
        "    neg_ages = df[df['age'] < 0].shape[0]\n",
        "    print(f\"- Negative ages: {neg_ages}\")\n",
        "if 'salary' in df.columns:\n",
        "    neg_salary = df[df['salary'] < 0].shape[0]\n",
        "    print(f\"- Negative salaries: {neg_salary}\")"
      ],
      "metadata": {
        "id": "eCfxBVahBv47"
      },
      "execution_count": null,
      "outputs": []
    }
  ]
}