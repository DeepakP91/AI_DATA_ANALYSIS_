{
  "nbformat": 4,
  "nbformat_minor": 0,
  "metadata": {
    "colab": {
      "provenance": []
    },
    "kernelspec": {
      "name": "python3",
      "display_name": "Python 3"
    },
    "language_info": {
      "name": "python"
    }
  },
  "cells": [
    {
      "cell_type": "code",
      "source": [
        "import pandas as pd\n",
        "import numpy as np\n",
        "from sklearn.preprocessing import StandardScaler, LabelEncoder\n",
        "\n",
        "# Step 1: Load Data\n",
        "df = pd.read_csv(\"raw_data.csv\")\n",
        "print(\"Initial Shape:\", df.shape)\n",
        "\n",
        "# Step 2: Handle Missing Values\n",
        "# Fill numeric with median, categorical with mode\n",
        "for col in df.columns:\n",
        "    if df[col].isnull().sum() > 0:\n",
        "        if pd.api.types.is_numeric_dtype(df[col]):\n",
        "            df[col].fillna(df[col].median(), inplace=True)\n",
        "        else:\n",
        "            df[col].fillna(df[col].mode()[0], inplace=True)\n",
        "\n",
        "# Step 3: Remove Duplicates\n",
        "df.drop_duplicates(inplace=True)\n",
        "\n",
        "# Step 4: Encode Categorical Variables\n",
        "label_encoders = {}\n",
        "for col in df.select_dtypes(include='object').columns:\n",
        "    le = LabelEncoder()\n",
        "    df[col] = le.fit_transform(df[col])\n",
        "    label_encoders[col] = le\n",
        "\n",
        "# Step 5: Normalize/Scale Numerical Columns\n",
        "scaler = StandardScaler()\n",
        "numeric_cols = df.select_dtypes(include=np.number).columns\n",
        "df[numeric_cols] = scaler.fit_transform(df[numeric_cols])\n",
        "\n",
        "# Step 6: Convert Data Types (optional)\n",
        "# Example: Ensure all numerical columns are float32 for efficiency\n",
        "for col in numeric_cols:\n",
        "    df[col] = df[col].astype(np.float32)\n",
        "\n",
        "# Step 7: Save Preprocessed Data\n",
        "df.to_csv(\"preprocessed_data.csv\", index=False)\n",
        "print(\"Preprocessed data saved as 'preprocessed_data.csv'\")"
      ],
      "metadata": {
        "id": "bnqsCckOCPdU"
      },
      "execution_count": null,
      "outputs": []
    }
  ]
}