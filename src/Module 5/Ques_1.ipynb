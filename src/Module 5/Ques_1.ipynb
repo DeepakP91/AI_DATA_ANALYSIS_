{
  "nbformat": 4,
  "nbformat_minor": 0,
  "metadata": {
    "colab": {
      "provenance": []
    },
    "kernelspec": {
      "name": "python3",
      "display_name": "Python 3"
    },
    "language_info": {
      "name": "python"
    }
  },
  "cells": [
    {
      "cell_type": "code",
      "source": [
        "import pandas as pd\n",
        "\n",
        "# Example DataFrame with missing values\n",
        "data = {\n",
        "    'Name': ['Alice', 'Bob', 'Charlie', 'David'],\n",
        "    'Age': [25, None, 30, 22],\n",
        "    'City': ['New York', 'Los Angeles', None, 'Chicago']\n",
        "}\n",
        "df = pd.DataFrame(data)\n",
        "\n",
        "# Identify missing values\n",
        "print(\"Missing values per column:\")\n",
        "print(df.isnull().sum())\n",
        "[15-05-2025 23:55]# Drop rows with any missing values\n",
        "df_dropped = df.dropna()\n",
        "print(\"\\nDataFrame after dropping rows with missing values:\")\n",
        "print(df_dropped)\n",
        "[15-05-2025 23:55]# Fill missing age with mean\n",
        "df_filled = df.copy()\n",
        "df_filled['Age'] = df_filled['Age'].fillna(df_filled['Age'].mean())\n",
        "\n",
        "# Fill missing city with a specific value\n",
        "df_filled['City'] = df_filled['City'].fillna(\"Unknown\")\n",
        "\n",
        "print(\"\\nDataFrame after filling missing values:\")\n",
        "print(df_filled)"
      ],
      "metadata": {
        "id": "p9AAUP0CMVe6"
      },
      "execution_count": null,
      "outputs": []
    }
  ]
}