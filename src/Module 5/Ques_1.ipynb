{
  "nbformat": 4,
  "nbformat_minor": 0,
  "metadata": {
    "colab": {
      "provenance": []
    },
    "kernelspec": {
      "name": "python3",
      "display_name": "Python 3"
    },
    "language_info": {
      "name": "python"
    }
  },
  "cells": [
    {
      "cell_type": "code",
      "source": [
        "import pandas as pd\n",
        "\n",
        "# Sample data with missing values\n",
        "data = {\n",
        "    'Name': ['Alice', 'Bob', 'Charlie', 'David'],\n",
        "    'Age': [25, None, 30, 22],\n",
        "    'City': ['New York', 'Los Angeles', None, 'Chicago']\n",
        "}\n",
        "\n",
        "# Create DataFrame\n",
        "df = pd.DataFrame(data)\n",
        "\n",
        "# 1. Display missing values\n",
        "print(\"Missing values in each column:\")\n",
        "print(df.isnull().sum())\n",
        "\n",
        "# 2. Fill missing numerical values with the mean\n",
        "df['Age'] = df['Age'].fillna(df['Age'].mean())\n",
        "\n",
        "# 3. Fill missing categorical values with a placeholder\n",
        "df['City'] = df['City'].fillna(\"Unknown\")\n",
        "\n",
        "# 4. Final DataFrame\n",
        "print(\"\\nDataFrame after handling missing data:\")\n",
        "print(df)"
      ],
      "metadata": {
        "id": "sf2Zj1dLNHxW"
      },
      "execution_count": null,
      "outputs": []
    }
  ]
}