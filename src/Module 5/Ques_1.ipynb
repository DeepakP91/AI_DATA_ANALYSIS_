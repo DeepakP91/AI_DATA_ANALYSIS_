{
  "nbformat": 4,
  "nbformat_minor": 0,
  "metadata": {
    "colab": {
      "provenance": []
    },
    "kernelspec": {
      "name": "python3",
      "display_name": "Python 3"
    },
    "language_info": {
      "name": "python"
    }
  },
  "cells": [
    {
      "cell_type": "code",
      "source": [
        "import pandas as pd\n",
        "\n",
        "# Example DataFrame with missing values\n",
        "data = {\n",
        "    'Name': ['Alice', 'Bob', 'Charlie', 'David'],\n",
        "    'Age': [25, None, 30, 22],\n",
        "    'City': ['New York', 'Los Angeles', None, 'Chicago']\n",
        "}\n",
        "df = pd.DataFrame(data)\n",
        "\n",
        "# Identify missing values\n",
        "print(\"Missing values per column:\")\n",
        "print(df.isnull().sum())"
      ],
      "metadata": {
        "id": "GHuexYc5L0WH"
      },
      "execution_count": null,
      "outputs": []
    }
  ]
}