{
  "nbformat": 4,
  "nbformat_minor": 0,
  "metadata": {
    "colab": {
      "provenance": []
    },
    "kernelspec": {
      "name": "python3",
      "display_name": "Python 3"
    },
    "language_info": {
      "name": "python"
    }
  },
  "cells": [
    {
      "cell_type": "code",
      "execution_count": null,
      "metadata": {
        "id": "kg2zlZ3RLBXT"
      },
      "outputs": [],
      "source": []
    },
    {
      "cell_type": "code",
      "source": [
        "import pandas as pd\n",
        "\n",
        "# Example DataFrame with missing data\n",
        "data = {\n",
        "    'Name': ['Alice', 'Bob', None, 'David'],\n",
        "    'Age': [25, None, 30, 22],\n",
        "    'City': ['New York', 'Los Angeles', 'Chicago', None]\n",
        "}\n",
        "\n",
        "df = pd.DataFrame(data)\n",
        "\n",
        "# 1. Check for missing data\n",
        "print(\"Missing Data:\\n\", df.isnull())\n",
        "\n",
        "# 2. Drop rows with any missing data\n",
        "df_dropped = df.dropna()\n",
        "print(\"\\nDataFrame after dropping rows with missing values:\\n\", df_dropped)\n",
        "\n",
        "# 3. Fill missing values\n",
        "df_filled = df.fillna({\n",
        "    'Name': 'Unknown',\n",
        "    'Age': df['Age'].mean(),  # Replace with average age\n",
        "    'City': 'Unknown'\n",
        "})\n",
        "print(\"\\nDataFrame after filling missing values:\\n\", df_filled)"
      ],
      "metadata": {
        "id": "DlUQUeczLNT1"
      },
      "execution_count": null,
      "outputs": []
    }
  ]
}