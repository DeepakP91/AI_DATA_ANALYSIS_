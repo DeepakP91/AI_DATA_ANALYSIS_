{
  "nbformat": 4,
  "nbformat_minor": 0,
  "metadata": {
    "colab": {
      "provenance": []
    },
    "kernelspec": {
      "name": "python3",
      "display_name": "Python 3"
    },
    "language_info": {
      "name": "python"
    }
  },
  "cells": [
    {
      "cell_type": "code",
      "source": [
        "import pandas as pd\n",
        "import numpy as np\n",
        "\n",
        "# Load dataset\n",
        "df = pd.read_csv(\"raw_data.csv\")\n",
        "print(\"Data Loaded. Shape:\", df.shape)\n",
        "\n",
        "# 1. Schema and Type Checks\n",
        "expected_columns = {\n",
        "    'id': 'int64',\n",
        "    'name': 'object',\n",
        "    'age': 'int64',\n",
        "    'email': 'object',\n",
        "    'salary': 'float64',\n",
        "    'join_date': 'object'  # Will convert to datetime\n",
        "}\n",
        "\n",
        "print(\"\\n=== Schema Validation ===\")\n",
        "for col, expected_type in expected_columns.items():\n",
        "    if col not in df.columns:\n",
        "        print(f\"Missing column: {col}\")\n",
        "    elif df[col].dtype != expected_type:\n",
        "        print(f\"Type mismatch in '{col}': Expected {expected_type}, Found {df[col].dtype}\")\n",
        "\n",
        "# 2. Data Type Fixes\n",
        "df['join_date'] = pd.to_datetime(df['join_date'], errors='coerce')\n",
        "\n",
        "# 3. Uniqueness Check\n",
        "print(\"\\n=== Uniqueness Checks ===\")\n",
        "if df['id'].duplicated().any():\n",
        "    print(\"Duplicate IDs found!\")\n",
        "\n",
        "# 4. Missing Value Checks\n",
        "print(\"\\n=== Missing Values ===\")\n",
        "print(df.isnull().sum())\n",
        "\n",
        "# 5. Outlier Detection (using IQR)\n",
        "print(\"\\n=== Outlier Detection ===\")\n",
        "numeric_cols = df.select_dtypes(include=np.number).columns\n",
        "for col in numeric_cols:\n",
        "    Q1 = df[col].quantile(0.25)\n",
        "    Q3 = df[col].quantile(0.75)\n",
        "    IQR = Q3 - Q1\n",
        "    lower = Q1 - 1.5 * IQR\n",
        "    upper = Q3 + 1.5 * IQR\n",
        "    outliers = df[(df[col] < lower) | (df[col] > upper)]\n",
        "    if not outliers.empty:\n",
        "        print(f\"{col}: {outliers.shape[0]} outliers detected\")\n",
        "\n",
        "# 6. Value Range Checks\n",
        "print(\"\\n=== Value Range Validation ===\")\n",
        "if 'age' in df.columns:\n",
        "    invalid_ages = df[(df['age'] < 0) | (df['age'] > 120)]\n",
        "    print(f\"Invalid ages: {invalid_ages.shape[0]}\")\n",
        "if 'salary' in df.columns:\n",
        "    negative_salary = df[df['salary'] < 0]\n",
        "    print(f\"Negative salaries: {negative_salary.shape[0]}\")\n",
        "\n",
        "# 7. Export Clean Log\n",
        "print(\"\\n=== Summary ===\")\n",
        "print(\"Advanced data quality checks completed.\")"
      ],
      "metadata": {
        "id": "JD4gRMUjDcn8"
      },
      "execution_count": null,
      "outputs": []
    }
  ]
}