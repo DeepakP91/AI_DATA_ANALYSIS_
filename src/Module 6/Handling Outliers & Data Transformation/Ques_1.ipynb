{
  "nbformat": 4,
  "nbformat_minor": 0,
  "metadata": {
    "colab": {
      "provenance": []
    },
    "kernelspec": {
      "name": "python3",
      "display_name": "Python 3"
    },
    "language_info": {
      "name": "python"
    }
  },
  "cells": [
    {
      "cell_type": "code",
      "execution_count": null,
      "metadata": {
        "id": "qRZyUSk3G6G9"
      },
      "outputs": [],
      "source": [
        "import matplotlib.pyplot as plt\n",
        "\n",
        "# Sample data\n",
        "data = [10, 12, 14, 16, 18, 100]\n",
        "\n",
        "# Create a boxplot\n",
        "plt.boxplot(data)\n",
        "plt.title(\"Boxplot of Dataset\")\n",
        "plt.ylabel(\"Values\")\n",
        "plt.grid(True)\n",
        "plt.show()"
      ]
    }
  ]
}