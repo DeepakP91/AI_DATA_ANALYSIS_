{
  "nbformat": 4,
  "nbformat_minor": 0,
  "metadata": {
    "colab": {
      "provenance": []
    },
    "kernelspec": {
      "name": "python3",
      "display_name": "Python 3"
    },
    "language_info": {
      "name": "python"
    }
  },
  "cells": [
    {
      "cell_type": "code",
      "execution_count": null,
      "metadata": {
        "id": "fFzRp7vzICrq"
      },
      "outputs": [],
      "source": []
    },
    {
      "cell_type": "code",
      "source": [
        "from scipy.stats.mstats import winsorize\n",
        "\n",
        "# Sample data with outliers\n",
        "data = [10, 12, 14, 16, 18, 100]\n",
        "\n",
        "# Apply Winsorization (limits define the percentage of data to Winsorize from each end)\n",
        "# Example: limits=(0.1, 0.1) will Winsorize the lowest and highest 10%\n",
        "winsorized_data = winsorize(data, limits=(0.1, 0.1))\n",
        "\n",
        "# Convert back to a regular list and print\n",
        "print(\"Winsorized data:\", list(winsorized_data))"
      ],
      "metadata": {
        "id": "cqalfxBiIJa3"
      },
      "execution_count": null,
      "outputs": []
    }
  ]
}