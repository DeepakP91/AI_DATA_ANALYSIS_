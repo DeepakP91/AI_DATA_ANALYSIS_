{
  "nbformat": 4,
  "nbformat_minor": 0,
  "metadata": {
    "colab": {
      "provenance": []
    },
    "kernelspec": {
      "name": "python3",
      "display_name": "Python 3"
    },
    "language_info": {
      "name": "python"
    }
  },
  "cells": [
    {
      "cell_type": "code",
      "execution_count": null,
      "metadata": {
        "id": "fFzRp7vzICrq"
      },
      "outputs": [],
      "source": [
        "import numpy as np\n",
        "from scipy import stats\n",
        "\n",
        "# Sample dataset (must be positive values only)\n",
        "data = [1, 2, 3, 4, 5, 6, 7, 8, 9, 10]\n",
        "\n",
        "# Convert to NumPy array\n",
        "data_array = np.array(data)\n",
        "\n",
        "# Apply Box-Cox transformation\n",
        "transformed_data, lambda_val = stats.boxcox(data_array)\n",
        "\n",
        "print(\"Transformed data:\", transformed_data)\n",
        "print(\"Lambda used:\", lambda_val)"
      ]
    }
  ]
}