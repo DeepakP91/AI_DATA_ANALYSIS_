{
  "nbformat": 4,
  "nbformat_minor": 0,
  "metadata": {
    "colab": {
      "provenance": []
    },
    "kernelspec": {
      "name": "python3",
      "display_name": "Python 3"
    },
    "language_info": {
      "name": "python"
    }
  },
  "cells": [
    {
      "cell_type": "code",
      "source": [
        "import numpy as np\n",
        "import pandas as pd\n",
        "from scipy.spatial import distance\n",
        "\n",
        "# Sample multivariate dataset (2D array or DataFrame)\n",
        "data = np.array([\n",
        "    [2, 4],\n",
        "    [3, 5],\n",
        "    [4, 4],\n",
        "    [5, 6],\n",
        "    [100, 200]  # potential outlier\n",
        "])\n",
        "\n",
        "# Convert to DataFrame\n",
        "df = pd.DataFrame(data)\n",
        "\n",
        "# Compute mean vector and covariance matrix\n",
        "mean_vector = np.mean(df, axis=0)\n",
        "cov_matrix = np.cov(df.T)\n",
        "inv_cov_matrix = np.linalg.inv(cov_matrix)\n",
        "\n",
        "# Compute Mahalanobis distance for each observation\n",
        "mahalanobis_distances = df.apply(\n",
        "    lambda row: distance.mahalanobis(row, mean_vector, inv_cov_matrix), axis=1\n",
        ")\n",
        "\n",
        "# Define a threshold (e.g., 95th percentile or manual threshold)\n",
        "threshold = 3  # customize as needed\n",
        "outliers = df[mahalanobis_distances > threshold]\n",
        "\n",
        "print(\"Mahalanobis distances:\")\n",
        "print(mahalanobis_distances)\n",
        "print(\"\\nOutliers detected:\")\n",
        "print(outliers)"
      ],
      "metadata": {
        "id": "GxUw_9LdKhPr"
      },
      "execution_count": null,
      "outputs": []
    }
  ]
}