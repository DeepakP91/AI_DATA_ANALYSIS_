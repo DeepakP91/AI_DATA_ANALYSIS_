{
  "nbformat": 4,
  "nbformat_minor": 0,
  "metadata": {
    "colab": {
      "provenance": []
    },
    "kernelspec": {
      "name": "python3",
      "display_name": "Python 3"
    },
    "language_info": {
      "name": "python"
    }
  },
  "cells": [
    {
      "cell_type": "code",
      "source": [
        "import numpy as np\n",
        "import pandas as pd\n",
        "import matplotlib.pyplot as plt\n",
        "from scipy.stats import zscore\n",
        "\n",
        "# Sample dataset\n",
        "data = [10, 12, 14, 16, 18, 100]\n",
        "df = pd.DataFrame(data, columns=[\"Value\"])\n",
        "\n",
        "# --- Z-Score Method ---\n",
        "z_scores = np.abs(zscore(df[\"Value\"]))\n",
        "z_outliers = df[\"Value\"][z_scores > 3]\n",
        "\n",
        "# --- IQR Method ---\n",
        "Q1 = df[\"Value\"].quantile(0.25)\n",
        "Q3 = df[\"Value\"].quantile(0.75)\n",
        "IQR = Q3 - Q1\n",
        "lower_bound = Q1 - 1.5 * IQR\n",
        "upper_bound = Q3 + 1.5 * IQR\n",
        "iqr_outliers = df[\"Value\"][(df[\"Value\"] < lower_bound) | (df[\"Value\"] > upper_bound)]\n",
        "\n",
        "# --- Boxplot Visualization ---\n",
        "plt.boxplot(df[\"Value\"])\n",
        "plt.title(\"Boxplot of Data\")\n",
        "plt.ylabel(\"Value\")\n",
        "plt.grid(True)\n",
        "plt.show()\n",
        "\n",
        "# --- Print Results ---\n",
        "print(\"Original Data:\", data)\n",
        "print(\"Outliers using Z-Score:\", list(z_outliers))\n",
        "print(\"Outliers using IQR:\", list(iqr_outliers))"
      ],
      "metadata": {
        "id": "EYeT-MQaK-Ud"
      },
      "execution_count": null,
      "outputs": []
    }
  ]
}