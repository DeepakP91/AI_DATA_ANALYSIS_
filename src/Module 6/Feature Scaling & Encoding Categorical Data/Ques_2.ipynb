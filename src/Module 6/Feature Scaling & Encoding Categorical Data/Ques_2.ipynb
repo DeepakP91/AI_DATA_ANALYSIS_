{
  "nbformat": 4,
  "nbformat_minor": 0,
  "metadata": {
    "colab": {
      "provenance": []
    },
    "kernelspec": {
      "name": "python3",
      "display_name": "Python 3"
    },
    "language_info": {
      "name": "python"
    }
  },
  "cells": [
    {
      "cell_type": "code",
      "source": [
        "import numpy as np\n",
        "\n",
        "# Step 1: Create a 2D NumPy array\n",
        "data = np.array([[1, 2, 3],\n",
        "                 [4, 5, 6],\n",
        "                 [7, 8, 9]])\n",
        "\n",
        "# Step 2: Perform operations\n",
        "mean_all = np.mean(data)\n",
        "row_means = np.mean(data, axis=1)\n",
        "col_means = np.mean(data, axis=0)\n",
        "\n",
        "# Step 3: Reshape the array\n",
        "reshaped = data.reshape((1, 9))\n",
        "\n",
        "# Step 4: Element-wise arithmetic\n",
        "squared = data ** 2\n",
        "added = data + 10\n",
        "\n",
        "# Step 5: Print results\n",
        "print(\"Original Data:\\n\", data)\n",
        "print(\"Mean of all elements:\", mean_all)\n",
        "print(\"Row-wise mean:\", row_means)\n",
        "print(\"Column-wise mean:\", col_means)\n",
        "print(\"Reshaped Data (1x9):\", reshaped)\n",
        "print(\"Element-wise Squared:\\n\", squared)\n",
        "print(\"Element-wise Addition (+10):\\n\", added)"
      ],
      "metadata": {
        "id": "fZnZGIOYOibY"
      },
      "execution_count": null,
      "outputs": []
    }
  ]
}