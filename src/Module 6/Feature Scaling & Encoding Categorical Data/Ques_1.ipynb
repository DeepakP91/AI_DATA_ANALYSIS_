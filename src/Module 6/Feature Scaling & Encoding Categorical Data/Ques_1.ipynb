{
  "nbformat": 4,
  "nbformat_minor": 0,
  "metadata": {
    "colab": {
      "provenance": []
    },
    "kernelspec": {
      "name": "python3",
      "display_name": "Python 3"
    },
    "language_info": {
      "name": "python"
    }
  },
  "cells": [
    {
      "cell_type": "code",
      "source": [
        "import numpy as np\n",
        "\n",
        "# Step 1: Create a NumPy array\n",
        "data = np.array([10, 20, 30, 40, 50])\n",
        "\n",
        "# Step 2: Perform basic operations\n",
        "mean_val = np.mean(data)\n",
        "median_val = np.median(data)\n",
        "std_dev = np.std(data)\n",
        "max_val = np.max(data)\n",
        "min_val = np.min(data)\n",
        "\n",
        "# Step 3: Print the results\n",
        "print(\"Data:\", data)\n",
        "print(\"Mean:\", mean_val)\n",
        "print(\"Median:\", median_val)\n",
        "print(\"Standard Deviation:\", std_dev)\n",
        "print(\"Maximum Value:\", max_val)\n",
        "print(\"Minimum Value:\", min_val)"
      ],
      "metadata": {
        "id": "0L0S56sUOE7t"
      },
      "execution_count": null,
      "outputs": []
    }
  ]
}