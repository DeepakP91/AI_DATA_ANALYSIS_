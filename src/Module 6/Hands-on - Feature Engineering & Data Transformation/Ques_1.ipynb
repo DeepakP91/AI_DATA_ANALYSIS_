{
  "nbformat": 4,
  "nbformat_minor": 0,
  "metadata": {
    "colab": {
      "provenance": []
    },
    "kernelspec": {
      "name": "python3",
      "display_name": "Python 3"
    },
    "language_info": {
      "name": "python"
    }
  },
  "cells": [
    {
      "cell_type": "code",
      "source": [
        "import pandas as pd\n",
        "\n",
        "# Sample dataset\n",
        "data = {\n",
        "    'Value': [10, 12, 12, 13, 12, 11, 14, 13, 12, 110]  # 110 is an outlier\n",
        "}\n",
        "df = pd.DataFrame(data)\n",
        "\n",
        "# Calculate Q1 (25th percentile) and Q3 (75th percentile)\n",
        "Q1 = df['Value'].quantile(0.25)\n",
        "Q3 = df['Value'].quantile(0.75)\n",
        "\n",
        "# Calculate IQR\n",
        "IQR = Q3 - Q1\n",
        "\n",
        "# Define bounds for outliers\n",
        "lower_bound = Q1 - 1.5 * IQR\n",
        "upper_bound = Q3 + 1.5 * IQR\n",
        "\n",
        "# Detect outliers\n",
        "outliers = df[(df['Value'] < lower_bound) | (df['Value'] > upper_bound)]\n",
        "print(\"Detected Outliers:\\n\", outliers)\n",
        "\n",
        "# Remove outliers\n",
        "df_clean = df[(df['Value'] >= lower_bound) & (df['Value'] <= upper_bound)]\n",
        "print(\"\\nData after removing outliers:\\n\", df_clean)"
      ],
      "metadata": {
        "id": "CEonuKlpW4MZ"
      },
      "execution_count": null,
      "outputs": []
    }
  ]
}