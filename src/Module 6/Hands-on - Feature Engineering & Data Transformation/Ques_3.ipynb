{
  "nbformat": 4,
  "nbformat_minor": 0,
  "metadata": {
    "colab": {
      "provenance": []
    },
    "kernelspec": {
      "name": "python3",
      "display_name": "Python 3"
    },
    "language_info": {
      "name": "python"
    }
  },
  "cells": [
    {
      "cell_type": "code",
      "source": [
        "import pandas as pd\n",
        "from sklearn.preprocessing import MinMaxScaler, LabelEncoder\n",
        "\n",
        "# Sample dataset\n",
        "data = {\n",
        "    'Age': [25, 32, 47, 51, 62],\n",
        "    'Salary': [50000, 60000, 80000, 90000, 150000],\n",
        "    'Gender': ['Male', 'Female', 'Female', 'Male', 'Female'],\n",
        "    'Department': ['HR', 'IT', 'Finance', 'IT', 'HR']\n",
        "}\n",
        "df = pd.DataFrame(data)\n",
        "\n",
        "# Feature Scaling - MinMaxScaler\n",
        "scaler = MinMaxScaler()\n",
        "df[['Age', 'Salary']] = scaler.fit_transform(df[['Age', 'Salary']])\n",
        "\n",
        "# Encoding Categorical Features - LabelEncoder\n",
        "label_encoders = {}\n",
        "for col in ['Gender', 'Department']:\n",
        "    le = LabelEncoder()\n",
        "    df[col] = le.fit_transform(df[col])\n",
        "    label_encoders[col] = le  # Optional: store encoders for inverse transform\n",
        "\n",
        "print(\"Processed Data:\\n\", df)"
      ],
      "metadata": {
        "id": "zZfu1ldnXw-z"
      },
      "execution_count": null,
      "outputs": []
    }
  ]
}