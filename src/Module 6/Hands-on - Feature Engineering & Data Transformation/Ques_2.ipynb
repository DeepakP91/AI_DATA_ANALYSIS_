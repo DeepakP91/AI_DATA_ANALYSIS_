{
  "nbformat": 4,
  "nbformat_minor": 0,
  "metadata": {
    "colab": {
      "provenance": []
    },
    "kernelspec": {
      "name": "python3",
      "display_name": "Python 3"
    },
    "language_info": {
      "name": "python"
    }
  },
  "cells": [
    {
      "cell_type": "code",
      "source": [
        "import pandas as pd\n",
        "from sklearn.preprocessing import StandardScaler, OneHotEncoder\n",
        "from sklearn.compose import ColumnTransformer\n",
        "from sklearn.pipeline import Pipeline\n",
        "\n",
        "# Sample dataset\n",
        "data = {\n",
        "    'Age': [25, 32, 47, 51, 62],\n",
        "    'Salary': [50000, 60000, 80000, 90000, 150000],\n",
        "    'Gender': ['Male', 'Female', 'Female', 'Male', 'Female'],\n",
        "    'Department': ['HR', 'IT', 'Finance', 'IT', 'HR']\n",
        "}\n",
        "df = pd.DataFrame(data)\n",
        "\n",
        "# Identify numerical and categorical columns\n",
        "numerical_features = ['Age', 'Salary']\n",
        "categorical_features = ['Gender', 'Department']\n",
        "\n",
        "# Define transformers\n",
        "numerical_transformer = StandardScaler()\n",
        "categorical_transformer = OneHotEncoder(sparse=False, drop='first')  # drop='first' to avoid dummy variable trap\n",
        "\n",
        "# Create column transformer\n",
        "preprocessor = ColumnTransformer(\n",
        "    transformers=[\n",
        "        ('num', numerical_transformer, numerical_features),\n",
        "        ('cat', categorical_transformer, categorical_features)\n",
        "    ]\n",
        ")\n",
        "\n",
        "# Fit and transform the data\n",
        "processed_data = preprocessor.fit_transform(df)\n",
        "\n",
        "# Get column names after encoding\n",
        "encoded_columns = preprocessor.named_transformers_['cat'].get_feature_names_out(categorical_features)\n",
        "final_columns = numerical_features + list(encoded_columns)\n",
        "\n",
        "# Create final DataFrame\n",
        "processed_df = pd.DataFrame(processed_data, columns=final_columns)\n",
        "print(\"Processed Data:\\n\", processed_df)"
      ],
      "metadata": {
        "id": "uz2WwykEXV_v"
      },
      "execution_count": null,
      "outputs": []
    }
  ]
}