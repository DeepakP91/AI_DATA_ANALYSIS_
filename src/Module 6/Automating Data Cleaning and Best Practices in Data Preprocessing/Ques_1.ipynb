{
  "nbformat": 4,
  "nbformat_minor": 0,
  "metadata": {
    "colab": {
      "provenance": []
    },
    "kernelspec": {
      "name": "python3",
      "display_name": "Python 3"
    },
    "language_info": {
      "name": "python"
    }
  },
  "cells": [
    {
      "cell_type": "code",
      "source": [
        "import pandas as pd\n",
        "from sklearn.pipeline import Pipeline\n",
        "from sklearn.compose import ColumnTransformer\n",
        "from sklearn.preprocessing import StandardScaler, OneHotEncoder\n",
        "from sklearn.impute import SimpleImputer\n",
        "\n",
        "# Sample dataset\n",
        "data = {\n",
        "    'Age': [25, 32, None, 51, 62],\n",
        "    'Salary': [50000, 60000, 80000, None, 150000],\n",
        "    'Gender': ['Male', 'Female', 'Female', 'Male', 'Female'],\n",
        "    'Department': ['HR', 'IT', 'Finance', 'IT', None]\n",
        "}\n",
        "df = pd.DataFrame(data)\n",
        "\n",
        "# Identify column types\n",
        "numerical_features = ['Age', 'Salary']\n",
        "categorical_features = ['Gender', 'Department']\n",
        "\n",
        "# Define pipelines\n",
        "numeric_pipeline = Pipeline([\n",
        "    ('imputer', SimpleImputer(strategy='mean')),\n",
        "    ('scaler', StandardScaler())\n",
        "])\n",
        "\n",
        "categorical_pipeline = Pipeline([\n",
        "    ('imputer', SimpleImputer(strategy='most_frequent')),\n",
        "    ('encoder', OneHotEncoder(drop='first', sparse=False))\n",
        "])\n",
        "\n",
        "# Combine into a single column transformer\n",
        "preprocessor = ColumnTransformer([\n",
        "    ('num', numeric_pipeline, numerical_features),\n",
        "    ('cat', categorical_pipeline, categorical_features)\n",
        "])\n",
        "\n",
        "# Fit and transform\n",
        "processed_data = preprocessor.fit_transform(df)\n",
        "\n",
        "# Get encoded feature names\n",
        "encoded_cat_columns = preprocessor.named_transformers_['cat'].named_steps['encoder'].get_feature_names_out(categorical_features)\n",
        "final_columns = numerical_features + list(encoded_cat_columns)\n",
        "\n",
        "# Convert to DataFrame\n",
        "processed_df = pd.DataFrame(processed_data, columns=final_columns)\n",
        "\n",
        "print(\"Processed DataFrame:\\n\", processed_df)"
      ],
      "metadata": {
        "id": "yiMOqswbYwB1"
      },
      "execution_count": null,
      "outputs": []
    }
  ]
}