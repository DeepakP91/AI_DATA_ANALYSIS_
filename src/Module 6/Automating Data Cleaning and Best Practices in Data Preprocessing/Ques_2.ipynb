{
  "nbformat": 4,
  "nbformat_minor": 0,
  "metadata": {
    "colab": {
      "provenance": []
    },
    "kernelspec": {
      "name": "python3",
      "display_name": "Python 3"
    },
    "language_info": {
      "name": "python"
    }
  },
  "cells": [
    {
      "cell_type": "code",
      "source": [
        "import pandas as pd\n",
        "from sklearn.preprocessing import OneHotEncoder\n",
        "from sklearn.impute import SimpleImputer\n",
        "from sklearn.compose import ColumnTransformer\n",
        "from sklearn.pipeline import Pipeline\n",
        "from sklearn.preprocessing import StandardScaler\n",
        "\n",
        "def clean_data(df):\n",
        "    # Step 1: Remove duplicates\n",
        "    df = df.drop_duplicates()\n",
        "\n",
        "    # Step 2: Detect column types\n",
        "    numeric_cols = df.select_dtypes(include=['int64', 'float64']).columns.tolist()\n",
        "    categorical_cols = df.select_dtypes(include=['object']).columns.tolist()\n",
        "\n",
        "    # Step 3: Handle missing values and scaling/encoding using pipelines\n",
        "    numeric_pipeline = Pipeline([\n",
        "        ('imputer', SimpleImputer(strategy='mean')),\n",
        "        ('scaler', StandardScaler())\n",
        "    ])\n",
        "\n",
        "    categorical_pipeline = Pipeline([\n",
        "        ('imputer', SimpleImputer(strategy='most_frequent')),\n",
        "        ('encoder', OneHotEncoder(drop='first', sparse=False))\n",
        "    ])\n",
        "\n",
        "    preprocessor = ColumnTransformer([\n",
        "        ('num', numeric_pipeline, numeric_cols),\n",
        "        ('cat', categorical_pipeline, categorical_cols)\n",
        "    ])\n",
        "\n",
        "    # Step 4: Apply transformations\n",
        "    df_clean = preprocessor.fit_transform(df)\n",
        "\n",
        "    # Step 5: Create clean DataFrame with new column names\n",
        "    encoded_cat_names = preprocessor.named_transformers_['cat'].named_steps['encoder'].get_feature_names_out(categorical_cols)\n",
        "    all_columns = numeric_cols + list(encoded_cat_names)\n",
        "    df_cleaned = pd.DataFrame(df_clean, columns=all_columns)\n",
        "\n",
        "    return df_cleaned\n",
        "\n",
        "# Example usage\n",
        "data = {\n",
        "    'Age': [25, 32, None, 51, 62, 32],\n",
        "    'Salary': [50000, 60000, 80000, None, 150000, 60000],\n",
        "    'Gender': ['Male', 'Female', 'Female', 'Male', 'Female', 'Female'],\n",
        "    'Department': ['HR', 'IT', 'Finance', 'IT', None, 'IT']\n",
        "}\n",
        "df = pd.DataFrame(data)\n",
        "\n",
        "cleaned_df = clean_data(df)\n",
        "print(\"Cleaned DataFrame:\\n\", cleaned_df)"
      ],
      "metadata": {
        "id": "SaqXikJ4ZiUl"
      },
      "execution_count": null,
      "outputs": []
    }
  ]
}