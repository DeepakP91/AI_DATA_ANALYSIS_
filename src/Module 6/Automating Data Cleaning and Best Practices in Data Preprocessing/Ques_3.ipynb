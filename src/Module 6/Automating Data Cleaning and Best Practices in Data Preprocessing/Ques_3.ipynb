{
  "nbformat": 4,
  "nbformat_minor": 0,
  "metadata": {
    "colab": {
      "provenance": []
    },
    "kernelspec": {
      "name": "python3",
      "display_name": "Python 3"
    },
    "language_info": {
      "name": "python"
    }
  },
  "cells": [
    {
      "cell_type": "code",
      "source": [
        "import pandas as pd\n",
        "from sklearn.pipeline import Pipeline\n",
        "from sklearn.compose import ColumnTransformer\n",
        "from sklearn.impute import SimpleImputer\n",
        "from sklearn.preprocessing import StandardScaler, OneHotEncoder\n",
        "from sklearn.model_selection import train_test_split\n",
        "\n",
        "def preprocess_data(df, target_column):\n",
        "    # 1. Separate features and target\n",
        "    X = df.drop(columns=[target_column])\n",
        "    y = df[target_column]\n",
        "\n",
        "    # 2. Identify column types\n",
        "    numeric_cols = X.select_dtypes(include=['int64', 'float64']).columns.tolist()\n",
        "    categorical_cols = X.select_dtypes(include=['object', 'category']).columns.tolist()\n",
        "\n",
        "    # 3. Define pipelines\n",
        "    numeric_pipeline = Pipeline([\n",
        "        ('imputer', SimpleImputer(strategy='mean')),\n",
        "        ('scaler', StandardScaler())\n",
        "    ])\n",
        "\n",
        "    categorical_pipeline = Pipeline([\n",
        "        ('imputer', SimpleImputer(strategy='most_frequent')),\n",
        "        ('encoder', OneHotEncoder(drop='first', sparse=False, handle_unknown='ignore'))\n",
        "    ])\n",
        "\n",
        "    # 4. Combine pipelines\n",
        "    preprocessor = ColumnTransformer([\n",
        "        ('num', numeric_pipeline, numeric_cols),\n",
        "        ('cat', categorical_pipeline, categorical_cols)\n",
        "    ])\n",
        "\n",
        "    # 5. Split data for reproducibility\n",
        "    X_train, X_test, y_train, y_test = train_test_split(X, y, test_size=0.2, random_state=42)\n",
        "\n",
        "    # 6. Fit and transform on training data\n",
        "    X_train_processed = preprocessor.fit_transform(X_train)\n",
        "    X_test_processed = preprocessor.transform(X_test)\n",
        "\n",
        "    # 7. Retrieve feature names\n",
        "    encoded_cat_names = preprocessor.named_transformers_['cat'].named_steps['encoder'].get_feature_names_out(categorical_cols)\n",
        "    final_features = numeric_cols + list(encoded_cat_names)\n",
        "\n",
        "    # 8. Return clean DataFrames\n",
        "    X_train_df = pd.DataFrame(X_train_processed, columns=final_features)\n",
        "    X_test_df = pd.DataFrame(X_test_processed, columns=final_features)\n",
        "\n",
        "    return X_train_df, X_test_df, y_train.reset_index(drop=True), y_test.reset_index(drop=True)\n",
        "\n",
        "# Example usage\n",
        "data = {\n",
        "    'Age': [25, 32, None, 51, 62, 28],\n",
        "    'Salary': [50000, 60000, 80000, None, 150000, 48000],\n",
        "    'Gender': ['Male', 'Female', 'Female', 'Male', 'Female', 'Male'],\n",
        "    'Department': ['HR', 'IT', 'Finance', 'IT', None, 'HR'],\n",
        "    'Left_Company': [0, 1, 0, 1, 0, 0]\n",
        "}\n",
        "df = pd.DataFrame(data)\n",
        "\n",
        "X_train, X_test, y_train, y_test = preprocess_data(df, target_column='Left_Company')\n",
        "\n",
        "print(\"X_train:\\n\", X_train)\n",
        "print(\"\\nX_test:\\n\", X_test)"
      ],
      "metadata": {
        "id": "DtFUbRBiaCiN"
      },
      "execution_count": null,
      "outputs": []
    }
  ]
}