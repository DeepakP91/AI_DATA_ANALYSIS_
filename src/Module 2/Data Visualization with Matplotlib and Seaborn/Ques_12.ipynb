{
  "nbformat": 4,
  "nbformat_minor": 0,
  "metadata": {
    "colab": {
      "provenance": []
    },
    "kernelspec": {
      "name": "python3",
      "display_name": "Python 3"
    },
    "language_info": {
      "name": "python"
    }
  },
  "cells": [
    {
      "cell_type": "markdown",
      "source": [],
      "metadata": {
        "id": "VbaS--nJT-h7"
      }
    },
    {
      "cell_type": "code",
      "source": [
        "import seaborn as sns\n",
        "import matplotlib.pyplot as plt\n",
        "\n",
        "# Load sample dataset\n",
        "iris = sns.load_dataset('iris')\n",
        "\n",
        "# Create a pairplot\n",
        "sns.pairplot(iris, hue='species', palette='husl')\n",
        "\n",
        "# Show the plot\n",
        "plt.show()"
      ],
      "metadata": {
        "id": "yuhBrDhJVZ2K"
      },
      "execution_count": null,
      "outputs": []
    }
  ]
}