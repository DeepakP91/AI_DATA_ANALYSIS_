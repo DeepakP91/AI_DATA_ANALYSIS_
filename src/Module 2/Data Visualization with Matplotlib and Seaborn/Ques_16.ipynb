{
  "nbformat": 4,
  "nbformat_minor": 0,
  "metadata": {
    "colab": {
      "provenance": []
    },
    "kernelspec": {
      "name": "python3",
      "display_name": "Python 3"
    },
    "language_info": {
      "name": "python"
    }
  },
  "cells": [
    {
      "cell_type": "code",
      "execution_count": null,
      "metadata": {
        "id": "DXgVVqaoZAL9"
      },
      "outputs": [],
      "source": []
    },
    {
      "cell_type": "code",
      "source": [],
      "metadata": {
        "id": "OFMyTqEHZF_V"
      },
      "execution_count": null,
      "outputs": []
    },
    {
      "cell_type": "code",
      "source": [
        "import pandas as pd\n",
        "import matplotlib.pyplot as plt\n",
        "\n",
        "# Load your data\n",
        "df = pd.read_csv('/mnt/data/file-McV1R7ARmKHQHSKEpaHs8p')\n",
        "\n",
        "# Create a figure with subplots\n",
        "fig, axs = plt.subplots(2, 2, figsize=(12, 10))\n",
        "\n",
        "# Line plot\n",
        "axs[0, 0].plot(df['Column1'], df['Column2'], color='blue')\n",
        "axs[0, 0].set_title('Line Plot')\n",
        "\n",
        "# Histogram\n",
        "axs[0, 1].hist(df['Column2'], bins=15, color='green')\n",
        "axs[0, 1].set_title('Histogram')\n",
        "\n",
        "# Scatter plot\n",
        "axs[1, 0].scatter(df['Column1'], df['Column3'], color='red')\n",
        "axs[1, 0].set_title('Scatter Plot')\n",
        "\n",
        "# Box plot\n",
        "axs[1, 1].boxplot(df[['Column2', 'Column3']].dropna().values, labels=['Column2', 'Column3'])\n",
        "axs[1, 1].set_title('Box Plot')\n",
        "\n",
        "# Layout adjustment\n",
        "plt.tight_layout()\n",
        "plt.show()"
      ],
      "metadata": {
        "id": "ILutzSz6bOxk"
      },
      "execution_count": null,
      "outputs": []
    }
  ]
}