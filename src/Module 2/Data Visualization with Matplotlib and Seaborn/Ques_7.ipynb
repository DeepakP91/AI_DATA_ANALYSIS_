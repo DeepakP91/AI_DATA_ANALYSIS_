{
  "nbformat": 4,
  "nbformat_minor": 0,
  "metadata": {
    "colab": {
      "provenance": []
    },
    "kernelspec": {
      "name": "python3",
      "display_name": "Python 3"
    },
    "language_info": {
      "name": "python"
    }
  },
  "cells": [
    {
      "cell_type": "code",
      "source": [
        "import seaborn as sns\n",
        "import matplotlib.pyplot as plt\n",
        "import pandas as pd\n",
        "\n",
        "# Sample data (make sure your actual dataset matches this structure)\n",
        "data = {\n",
        "    'height': [160, 165, 170, 175, 180],\n",
        "    'weight': [55, 60, 65, 70, 75],\n",
        "    'size': [10, 15, 13, 18, 12]\n",
        "}\n",
        "\n",
        "df = pd.DataFrame(data)\n",
        "\n",
        "# Create scatter plot with point size\n",
        "sns.scatterplot(data=df, x='height', y='weight', size='size', sizes=(20, 200), legend=False)\n",
        "\n",
        "# Add labels and title\n",
        "plt.xlabel('Height')\n",
        "plt.ylabel('Weight')\n",
        "plt.title('Height vs. Weight with Variable Point Sizes')\n",
        "\n",
        "# Show the plot\n",
        "plt.show()"
      ],
      "metadata": {
        "id": "UYI4Fp9-S7IT"
      },
      "execution_count": null,
      "outputs": []
    }
  ]
}