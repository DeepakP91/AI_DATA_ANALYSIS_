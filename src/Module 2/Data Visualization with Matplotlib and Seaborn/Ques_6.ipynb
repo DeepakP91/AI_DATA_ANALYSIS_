{
  "nbformat": 4,
  "nbformat_minor": 0,
  "metadata": {
    "colab": {
      "provenance": []
    },
    "kernelspec": {
      "name": "python3",
      "display_name": "Python 3"
    },
    "language_info": {
      "name": "python"
    }
  },
  "cells": [
    {
      "cell_type": "code",
      "source": [
        "import matplotlib.pyplot as plt\n",
        "\n",
        "# Sample data\n",
        "categories = ['A', 'B', 'C', 'D']\n",
        "values = [10, 24, 36, 18]\n",
        "\n",
        "# Create bar plot with custom color\n",
        "plt.bar(categories, values, color='skyblue')\n",
        "\n",
        "# Add grid\n",
        "plt.grid(True, axis='y', linestyle='--', alpha=0.7)\n",
        "\n",
        "# Customize fonts\n",
        "plt.title('Customized Bar Plot', fontsize=16, fontweight='bold', fontname='Comic Sans MS')\n",
        "plt.xlabel('Categories', fontsize=12, fontname='Comic Sans MS')\n",
        "plt.ylabel('Values', fontsize=12, fontname='Comic Sans MS')\n",
        "\n",
        "# Show the plot\n",
        "plt.show()"
      ],
      "metadata": {
        "id": "rlJSVpmCSN_E"
      },
      "execution_count": null,
      "outputs": []
    }
  ]
}