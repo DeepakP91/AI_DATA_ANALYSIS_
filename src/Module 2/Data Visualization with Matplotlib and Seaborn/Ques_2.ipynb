{
  "nbformat": 4,
  "nbformat_minor": 0,
  "metadata": {
    "colab": {
      "provenance": []
    },
    "kernelspec": {
      "name": "python3",
      "display_name": "Python 3"
    },
    "language_info": {
      "name": "python"
    }
  },
  "cells": [
    {
      "cell_type": "code",
      "source": [
        "# Step 1: Import matplotlib\n",
        "import matplotlib.pyplot as plt\n",
        "\n",
        "# Step 2: Define height and weight data\n",
        "heights = [160, 170, 165, 180, 175]  # in centimeters\n",
        "weights = [55, 65, 60, 80, 76]       # in kilograms\n",
        "\n",
        "# Step 3: Create the scatter plot\n",
        "plt.figure(figsize=(8, 5))\n",
        "plt.scatter(heights, weights, color='green', marker='o')\n",
        "\n",
        "# Step 4: Add titles and labels\n",
        "plt.title('Height vs Weight Scatter Plot')\n",
        "plt.xlabel('Height (cm)')\n",
        "plt.ylabel('Weight (kg)')\n",
        "\n",
        "# Step 5: Show the plot\n",
        "plt.grid(True)\n",
        "plt.tight_layout()\n",
        "plt.show()"
      ],
      "metadata": {
        "id": "hnPgfb9UPb0c"
      },
      "execution_count": null,
      "outputs": []
    }
  ]
}