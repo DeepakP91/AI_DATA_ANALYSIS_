{
  "nbformat": 4,
  "nbformat_minor": 0,
  "metadata": {
    "colab": {
      "provenance": []
    },
    "kernelspec": {
      "name": "python3",
      "display_name": "Python 3"
    },
    "language_info": {
      "name": "python"
    }
  },
  "cells": [
    {
      "cell_type": "markdown",
      "source": [],
      "metadata": {
        "id": "VbaS--nJT-h7"
      }
    },
    {
      "cell_type": "code",
      "source": [
        "import seaborn as sns\n",
        "import matplotlib.pyplot as plt\n",
        "\n",
        "# Load Seaborn's sample dataset\n",
        "tips = sns.load_dataset('tips')\n",
        "\n",
        "# Advanced Seaborn plot: Scatter plot with hue and size\n",
        "sns.scatterplot(\n",
        "    data=tips,\n",
        "    x='total_bill',\n",
        "    y='tip',\n",
        "    hue='sex',        # Color points by gender\n",
        "    size='size',      # Size of points based on party size\n",
        "    palette='cool',   # Optional color palette\n",
        "    sizes=(20, 200)   # Scale for size encoding\n",
        ")\n",
        "\n",
        "# Add title and labels\n",
        "plt.title('Total Bill vs Tip with Hue and Size Encoding')\n",
        "plt.xlabel('Total Bill')\n",
        "plt.ylabel('Tip')\n",
        "\n",
        "# Show the plot\n",
        "plt.show()"
      ],
      "metadata": {
        "id": "rrdqTLpgUe-a"
      },
      "execution_count": null,
      "outputs": []
    }
  ]
}