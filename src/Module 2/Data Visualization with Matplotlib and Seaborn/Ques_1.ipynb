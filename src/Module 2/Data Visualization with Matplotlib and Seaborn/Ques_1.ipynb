{
  "nbformat": 4,
  "nbformat_minor": 0,
  "metadata": {
    "colab": {
      "provenance": []
    },
    "kernelspec": {
      "name": "python3",
      "display_name": "Python 3"
    },
    "language_info": {
      "name": "python"
    }
  },
  "cells": [
    {
      "cell_type": "code",
      "source": [
        "# Step 1: Import matplotlib\n",
        "import matplotlib.pyplot as plt\n",
        "\n",
        "# Step 2: Define product names and sales data\n",
        "products = ['A', 'B', 'C', 'D', 'E']\n",
        "sales = [23, 75, 57, 90, 65]  # in thousands\n",
        "\n",
        "# Step 3: Create the bar plot\n",
        "plt.figure(figsize=(8, 5))\n",
        "plt.bar(products, sales, color='skyblue')\n",
        "\n",
        "# Step 4: Add titles and labels\n",
        "plt.title('Product Sales (in Thousands)')\n",
        "plt.xlabel('Products')\n",
        "plt.ylabel('Sales (Thousands)')\n",
        "\n",
        "# Step 5: Show the plot\n",
        "plt.tight_layout()\n",
        "plt.show()"
      ],
      "metadata": {
        "id": "njPPdV-yOgS4"
      },
      "execution_count": null,
      "outputs": []
    }
  ]
}