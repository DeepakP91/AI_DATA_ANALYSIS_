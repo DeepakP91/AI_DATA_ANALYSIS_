{
  "nbformat": 4,
  "nbformat_minor": 0,
  "metadata": {
    "colab": {
      "provenance": []
    },
    "kernelspec": {
      "name": "python3",
      "display_name": "Python 3"
    },
    "language_info": {
      "name": "python"
    }
  },
  "cells": [
    {
      "cell_type": "markdown",
      "source": [],
      "metadata": {
        "id": "VbaS--nJT-h7"
      }
    },
    {
      "cell_type": "code",
      "source": [
        "import seaborn as sns\n",
        "import matplotlib.pyplot as plt\n",
        "\n",
        "# Load sample dataset\n",
        "tips = sns.load_dataset('tips')\n",
        "\n",
        "# Scatter plot of total_bill vs. tip\n",
        "sns.scatterplot(data=tips, x='total_bill', y='tip')\n",
        "\n",
        "# Add labels and title\n",
        "plt.title('Relationship between Total Bill and Tip')\n",
        "plt.xlabel('Total Bill')\n",
        "plt.ylabel('Tip')\n",
        "\n",
        "# Show the plot\n",
        "plt.show()"
      ],
      "metadata": {
        "id": "juOULhr0U7m7"
      },
      "execution_count": null,
      "outputs": []
    }
  ]
}