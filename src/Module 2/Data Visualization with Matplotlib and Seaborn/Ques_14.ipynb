{
  "nbformat": 4,
  "nbformat_minor": 0,
  "metadata": {
    "colab": {
      "provenance": []
    },
    "kernelspec": {
      "name": "python3",
      "display_name": "Python 3"
    },
    "language_info": {
      "name": "python"
    }
  },
  "cells": [
    {
      "cell_type": "markdown",
      "source": [],
      "metadata": {
        "id": "VbaS--nJT-h7"
      }
    },
    {
      "cell_type": "code",
      "source": [
        "import matplotlib.pyplot as plt\n",
        "import numpy as np\n",
        "\n",
        "# Generate example data\n",
        "x = np.linspace(0, 10, 100)\n",
        "y = np.sin(x)\n",
        "y2 = np.cos(x)\n",
        "\n",
        "# Create the line plot with styles\n",
        "plt.figure(figsize=(10, 6))\n",
        "plt.plot(x, y, label='sin(x)', color='blue', linewidth=2, linestyle='--', marker='o')\n",
        "plt.plot(x, y2, label='cos(x)', color='green', linewidth=2, linestyle='-', marker='s')\n",
        "\n",
        "# Customize the plot\n",
        "plt.title('Styled Line Plot of sin(x) and cos(x)', fontsize=14, fontweight='bold')\n",
        "plt.xlabel('X Axis')\n",
        "plt.ylabel('Y Axis')\n",
        "plt.grid(True, linestyle=':', color='gray')\n",
        "plt.legend()\n",
        "plt.style.use('seaborn-vibrant')\n",
        "\n",
        "# Show the plot\n",
        "plt.show()"
      ],
      "metadata": {
        "id": "PnjOn7ZMWwNi"
      },
      "execution_count": null,
      "outputs": []
    }
  ]
}