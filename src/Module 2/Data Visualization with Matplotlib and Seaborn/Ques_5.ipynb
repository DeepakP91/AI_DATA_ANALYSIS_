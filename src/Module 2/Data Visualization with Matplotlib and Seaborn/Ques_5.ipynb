{
  "nbformat": 4,
  "nbformat_minor": 0,
  "metadata": {
    "colab": {
      "provenance": []
    },
    "kernelspec": {
      "name": "python3",
      "display_name": "Python 3"
    },
    "language_info": {
      "name": "python"
    }
  },
  "cells": [
    {
      "cell_type": "code",
      "source": [
        "# Step 1: Import required libraries\n",
        "import seaborn as sns\n",
        "import matplotlib.pyplot as plt\n",
        "import pandas as pd\n",
        "\n",
        "# Step 2: Define the sales data\n",
        "data = {\n",
        "    'Product': ['A', 'B', 'C', 'D', 'E'],\n",
        "    'Sales': [23, 75, 57, 90, 65]  # in thousands\n",
        "}\n",
        "\n",
        "# Step 3: Create a DataFrame\n",
        "df = pd.DataFrame(data)\n",
        "\n",
        "# Step 4: Plot the bar chart using Seaborn\n",
        "plt.figure(figsize=(8, 5))\n",
        "sns.barplot(x='Product', y='Sales', data=df, palette='Blues')\n",
        "\n",
        "# Step 5: Customize the plot\n",
        "plt.title('Sales of Products (in Thousands)')\n",
        "plt.xlabel('Product')\n",
        "plt.ylabel('Sales (Thousands)')\n",
        "plt.tight_layout()\n",
        "plt.show()"
      ],
      "metadata": {
        "id": "RKGzaYcjRRzA"
      },
      "execution_count": null,
      "outputs": []
    }
  ]
}