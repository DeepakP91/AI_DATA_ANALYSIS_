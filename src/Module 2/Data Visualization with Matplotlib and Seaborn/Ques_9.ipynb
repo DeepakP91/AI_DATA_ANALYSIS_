{
  "nbformat": 4,
  "nbformat_minor": 0,
  "metadata": {
    "colab": {
      "provenance": []
    },
    "kernelspec": {
      "name": "python3",
      "display_name": "Python 3"
    },
    "language_info": {
      "name": "python"
    }
  },
  "cells": [
    {
      "cell_type": "markdown",
      "source": [],
      "metadata": {
        "id": "VbaS--nJT-h7"
      }
    },
    {
      "cell_type": "code",
      "source": [
        "import matplotlib.pyplot as plt\n",
        "\n",
        "# Sample data for product sales (bar plot)\n",
        "products = ['Product A', 'Product B', 'Product C']\n",
        "sales = [150, 200, 180]\n",
        "\n",
        "# Sample data for height vs. weight (scatter plot)\n",
        "height = [160, 165, 170, 175, 180]\n",
        "weight = [55, 60, 65, 70, 75]\n",
        "\n",
        "# Create subplots: 1 row, 2 columns\n",
        "fig, axes = plt.subplots(1, 2, figsize=(12, 5))\n",
        "\n",
        "# Bar plot for product sales\n",
        "axes[0].bar(products, sales, color='skyblue')\n",
        "axes[0].set_title('Product Sales')\n",
        "axes[0].set_xlabel('Products')\n",
        "axes[0].set_ylabel('Sales')\n",
        "axes[0].grid(True, axis='y', linestyle='--', alpha=0.6)\n",
        "\n",
        "# Scatter plot for height vs. weight\n",
        "axes[1].scatter(height, weight, color='green')\n",
        "axes[1].set_title('Height vs. Weight')\n",
        "axes[1].set_xlabel('Height (cm)')\n",
        "axes[1].set_ylabel('Weight (kg)')\n",
        "axes[1].grid(True, linestyle='--', alpha=0.6)\n",
        "\n",
        "# Adjust layout and show\n",
        "plt.tight_layout()\n",
        "plt.show()"
      ],
      "metadata": {
        "id": "NOtFlYP5T-te"
      },
      "execution_count": null,
      "outputs": []
    }
  ]
}