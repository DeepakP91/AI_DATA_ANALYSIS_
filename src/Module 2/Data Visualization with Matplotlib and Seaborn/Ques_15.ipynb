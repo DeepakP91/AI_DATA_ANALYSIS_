{
  "nbformat": 4,
  "nbformat_minor": 0,
  "metadata": {
    "colab": {
      "provenance": []
    },
    "kernelspec": {
      "name": "python3",
      "display_name": "Python 3"
    },
    "language_info": {
      "name": "python"
    }
  },
  "cells": [
    {
      "cell_type": "code",
      "execution_count": null,
      "metadata": {
        "id": "DXgVVqaoZAL9"
      },
      "outputs": [],
      "source": []
    },
    {
      "cell_type": "code",
      "source": [],
      "metadata": {
        "id": "OFMyTqEHZF_V"
      },
      "execution_count": null,
      "outputs": []
    },
    {
      "cell_type": "code",
      "source": [
        "import pandas as pd\n",
        "import seaborn as sns\n",
        "import matplotlib.pyplot as plt\n",
        "\n",
        "# Load your data (update the file path if needed)\n",
        "df = pd.read_csv('/mnt/data/file-JJBugxFxxwz9SqjGTbiLSY')\n",
        "\n",
        "# Compute the correlation matrix\n",
        "corr = df.corr()\n",
        "\n",
        "# Set the size of the plot\n",
        "plt.figure(figsize=(12, 8))\n",
        "\n",
        "# Create a heatmap with advanced styling\n",
        "sns.heatmap(corr, annot=True, fmt=\".2f\", cmap=\"coolwarm\",\n",
        "            linewidths=0.5, linecolor='gray', cbar=True,\n",
        "            square=True, annot_kws={\"size\": 10})\n",
        "\n",
        "# Title and axis adjustments\n",
        "plt.title(\"Correlation Matrix Heatmap\", fontsize=16)\n",
        "plt.xticks(rotation=45, ha='right')\n",
        "plt.yticks(rotation=0)\n",
        "plt.tight_layout()\n",
        "\n",
        "# Show the heatmap\n",
        "plt.show()"
      ],
      "metadata": {
        "id": "umZhCyMlZKJl"
      },
      "execution_count": null,
      "outputs": []
    }
  ]
}