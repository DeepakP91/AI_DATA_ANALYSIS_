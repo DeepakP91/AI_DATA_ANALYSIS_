{
  "nbformat": 4,
  "nbformat_minor": 0,
  "metadata": {
    "colab": {
      "provenance": []
    },
    "kernelspec": {
      "name": "python3",
      "display_name": "Python 3"
    },
    "language_info": {
      "name": "python"
    }
  },
  "cells": [
    {
      "cell_type": "code",
      "source": [
        "import seaborn as sns\n",
        "import matplotlib.pyplot as plt\n",
        "\n",
        "# Marks data\n",
        "marks = [23, 45, 56, 78, 89, 90, 67, 88, 76, 59]\n",
        "\n",
        "# Create histogram with KDE\n",
        "sns.histplot(marks, kde=True, color='skyblue', bins=8)\n",
        "\n",
        "# Add labels and title\n",
        "plt.xlabel('Marks')\n",
        "plt.ylabel('Frequency')\n",
        "plt.title('Histogram with KDE for Marks')\n",
        "\n",
        "# Show the plot\n",
        "plt.show()"
      ],
      "metadata": {
        "id": "7-fwP-nSTc1s"
      },
      "execution_count": null,
      "outputs": []
    }
  ]
}