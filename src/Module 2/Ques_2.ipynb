{
  "nbformat": 4,
  "nbformat_minor": 0,
  "metadata": {
    "colab": {
      "provenance": []
    },
    "kernelspec": {
      "name": "python3",
      "display_name": "Python 3"
    },
    "language_info": {
      "name": "python"
    }
  },
  "cells": [
    {
      "cell_type": "code",
      "source": [
        "# Step 1: Import necessary libraries\n",
        "import pandas as pd\n",
        "\n",
        "# Step 2: Load the Iris dataset\n",
        "url = \"https://raw.githubusercontent.com/mwaskom/seaborn-data/master/iris.csv\"\n",
        "df = pd.read_csv(url)\n",
        "\n",
        "# Step 3: Display the first 5 rows\n",
        "print(\"First 5 rows of the dataset:\")\n",
        "print(df.head())\n",
        "\n",
        "# Step 4: Display basic info\n",
        "print(\"\\nDataset Information:\")\n",
        "print(df.info())\n",
        "\n",
        "# Step 5: Describe the dataset\n",
        "print(\"\\nStatistical Summary:\")\n",
        "print(df.describe())\n",
        "\n",
        "# Step 6: Calculate the mean of each numerical column\n",
        "print(\"\\nMean of Each Numerical Column:\")\n",
        "print(df.mean(numeric_only=True))\n",
        "\n",
        "# Step 7: Check for missing values\n",
        "print(\"\\nMissing Values Check:\")\n",
        "print(df.isnull().sum())"
      ],
      "metadata": {
        "id": "w0jL6sY2K0Vw"
      },
      "execution_count": null,
      "outputs": []
    }
  ]
}