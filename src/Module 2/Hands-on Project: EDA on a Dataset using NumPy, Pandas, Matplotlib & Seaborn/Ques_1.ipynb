{
  "nbformat": 4,
  "nbformat_minor": 0,
  "metadata": {
    "colab": {
      "provenance": []
    },
    "kernelspec": {
      "name": "python3",
      "display_name": "Python 3"
    },
    "language_info": {
      "name": "python"
    }
  },
  "cells": [
    {
      "cell_type": "code",
      "source": [
        "# Step 1: Import the pandas library\n",
        "import pandas as pd\n",
        "\n",
        "# Step 2: Load the Iris dataset from an online source\n",
        "url = \"https://raw.githubusercontent.com/mwaskom/seaborn-data/master/iris.csv\"\n",
        "df = pd.read_csv(url)\n",
        "\n",
        "# Step 3: Display the first 5 rows\n",
        "print(\"First 5 rows of the Iris dataset:\")\n",
        "print(df.head())\n",
        "\n",
        "# Step 4: Display information about the dataset\n",
        "print(\"\\nDataset Info:\")\n",
        "print(df.info())\n",
        "\n",
        "# Step 5: Describe the dataset\n",
        "print(\"\\nStatistical Summary:\")\n",
        "print(df.describe())\n",
        "\n",
        "# Step 6: Check for missing values\n",
        "print(\"\\nMissing Values:\")\n",
        "print(df.isnull().sum())\n",
        "\n",
        "# Step 7: Show unique species\n",
        "print(\"\\nUnique Species in Dataset:\")\n",
        "print(df['species'].unique())"
      ],
      "metadata": {
        "id": "XFmax3cLJ14V"
      },
      "execution_count": null,
      "outputs": []
    }
  ]
}