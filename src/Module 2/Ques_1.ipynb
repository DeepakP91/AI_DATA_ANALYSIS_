{
  "nbformat": 4,
  "nbformat_minor": 0,
  "metadata": {
    "colab": {
      "provenance": []
    },
    "kernelspec": {
      "name": "python3",
      "display_name": "Python 3"
    },
    "language_info": {
      "name": "python"
    }
  },
  "cells": [
    {
      "cell_type": "code",
      "execution_count": null,
      "metadata": {
        "id": "XaKTX2PHGETC"
      },
      "outputs": [],
      "source": [
        "# Step 1: Import pandas\n",
        "import pandas as pd\n",
        "\n",
        "# Step 2: Load a dataset\n",
        "# Replace 'your_file.csv' with the actual dataset file path\n",
        "df = pd.read_csv('your_file.csv')\n",
        "\n",
        "# Step 3: Display the first 5 rows\n",
        "print(df.head())\n",
        "\n",
        "# Step 4: Display summary info\n",
        "print(df.info())\n",
        "\n",
        "# Step 5: Describe statistics of numerical columns\n",
        "print(df.describe())"
      ]
    }
  ]
}