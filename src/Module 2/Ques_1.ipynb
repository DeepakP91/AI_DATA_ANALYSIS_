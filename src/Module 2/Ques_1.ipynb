{
  "nbformat": 4,
  "nbformat_minor": 0,
  "metadata": {
    "colab": {
      "provenance": []
    },
    "kernelspec": {
      "name": "python3",
      "display_name": "Python 3"
    },
    "language_info": {
      "name": "python"
    }
  },
  "cells": [
    {
      "cell_type": "code",
      "source": [
        "# Step 1: Import pandas\n",
        "import pandas as pd\n",
        "\n",
        "# Step 2: Load a dataset (replace 'data.csv' with your actual file)\n",
        "# You can use any local file or a sample dataset from a URL\n",
        "url = \"https://raw.githubusercontent.com/mwaskom/seaborn-data/master/iris.csv\"\n",
        "df = pd.read_csv(url)\n",
        "\n",
        "# Step 3: Show the first few rows\n",
        "print(\"First 5 rows of the dataset:\")\n",
        "print(df.head())\n",
        "\n",
        "# Step 4: Basic info about the dataset\n",
        "print(\"\\nDataset Info:\")\n",
        "print(df.info())\n",
        "\n",
        "# Step 5: Statistical summary\n",
        "print(\"\\nStatistical Summary:\")\n",
        "print(df.describe())"
      ],
      "metadata": {
        "id": "H1oxN39bILIs"
      },
      "execution_count": null,
      "outputs": []
    }
  ]
}